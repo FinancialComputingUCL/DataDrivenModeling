{
 "cells": [
  {
   "cell_type": "code",
   "execution_count": 7,
   "id": "ee4741d5",
   "metadata": {},
   "outputs": [],
   "source": [
    "import pandas as pd\n",
    "import numpy as np\n",
    "\n",
    "from TMFG.tmfg_core import Fast_TMFG"
   ]
  },
  {
   "cell_type": "code",
   "execution_count": 13,
   "id": "c9731464",
   "metadata": {},
   "outputs": [
    {
     "name": "stdout",
     "output_type": "stream",
     "text": [
      "Num rows: 1000\n",
      "Num cols: 30\n"
     ]
    }
   ],
   "source": [
    "# Set the number of rows and columns.\n",
    "num_rows = 1000\n",
    "num_cols = 30\n",
    "\n",
    "# Generate a random dataset with the specified shape.\n",
    "data = pd.DataFrame(np.random.rand(num_rows, num_cols))\n",
    "\n",
    "print(f'Num rows: {data.shape[0]}')\n",
    "print(f'Num cols: {data.shape[1]}')"
   ]
  },
  {
   "cell_type": "code",
   "execution_count": 14,
   "id": "6865198c",
   "metadata": {},
   "outputs": [],
   "source": [
    "# Correlation matrix.\n",
    "corr_matrix = data.corr()\n",
    "\n",
    "# Covariance matrix.\n",
    "cov_matrix = data.cov()"
   ]
  },
  {
   "cell_type": "code",
   "execution_count": 15,
   "id": "8c0ab3ee",
   "metadata": {},
   "outputs": [
    {
     "name": "stdout",
     "output_type": "stream",
     "text": [
      "Cliques: [[26, 21, 18, 25], [22, 26, 21, 25], [1, 26, 21, 18], [12, 21, 18, 25], [14, 21, 25, 12], [6, 25, 12, 14], [2, 25, 12, 6], [23, 25, 14, 6], [13, 25, 6, 23], [3, 25, 6, 2], [10, 25, 2, 3], [15, 25, 3, 10], [17, 6, 23, 13], [5, 6, 23, 17], [24, 23, 17, 5], [28, 26, 21, 1], [7, 25, 3, 15], [9, 21, 18, 1], [20, 21, 1, 9], [8, 1, 9, 20], [11, 1, 9, 8], [19, 9, 8, 11], [29, 18, 25, 12], [4, 18, 1, 9], [27, 18, 12, 29], [0, 25, 3, 7], [16, 25, 3, 0]]\n",
      "Separators: [[26, 21, 25], [26, 21, 18], [21, 18, 25], [21, 25, 12], [25, 12, 14], [25, 12, 6], [25, 14, 6], [25, 6, 23], [25, 6, 2], [25, 2, 3], [25, 3, 10], [6, 23, 13], [6, 23, 17], [23, 17, 5], [26, 21, 1], [25, 3, 15], [21, 18, 1], [21, 1, 9], [1, 9, 20], [1, 9, 8], [9, 8, 11], [18, 25, 12], [18, 1, 9], [18, 12, 29], [25, 3, 7], [25, 3, 0]]\n"
     ]
    }
   ],
   "source": [
    "model = Fast_TMFG()\n",
    "\n",
    "# Correlation matrix filtering.\n",
    "cliques, seps, adj_matrix = model.fit_transform(corr_matrix, cov_matrix, logo=False)\n",
    "\n",
    "print(f'Cliques: {cliques}')\n",
    "print(f'Separators: {seps}')"
   ]
  },
  {
   "cell_type": "code",
   "execution_count": 16,
   "id": "6306b558",
   "metadata": {},
   "outputs": [
    {
     "name": "stdout",
     "output_type": "stream",
     "text": [
      "Cliques: [[26, 21, 18, 25], [22, 26, 21, 25], [1, 26, 21, 18], [12, 21, 18, 25], [14, 21, 25, 12], [6, 25, 12, 14], [2, 25, 12, 6], [23, 25, 14, 6], [13, 25, 6, 23], [3, 25, 6, 2], [10, 25, 2, 3], [15, 25, 3, 10], [17, 6, 23, 13], [5, 6, 23, 17], [24, 23, 17, 5], [28, 26, 21, 1], [7, 25, 3, 15], [9, 21, 18, 1], [20, 21, 1, 9], [8, 1, 9, 20], [11, 1, 9, 8], [19, 9, 8, 11], [29, 18, 25, 12], [4, 18, 1, 9], [27, 18, 12, 29], [0, 25, 3, 7], [16, 25, 3, 0]]\n",
      "Separators: [[26, 21, 25], [26, 21, 18], [21, 18, 25], [21, 25, 12], [25, 12, 14], [25, 12, 6], [25, 14, 6], [25, 6, 23], [25, 6, 2], [25, 2, 3], [25, 3, 10], [6, 23, 13], [6, 23, 17], [23, 17, 5], [26, 21, 1], [25, 3, 15], [21, 18, 1], [21, 1, 9], [1, 9, 20], [1, 9, 8], [9, 8, 11], [18, 25, 12], [18, 1, 9], [18, 12, 29], [25, 3, 7], [25, 3, 0]]\n"
     ]
    }
   ],
   "source": [
    "# TMFG with logo (obtain the sparse inverse covariance matrix).\n",
    "cliques, seps, sparse_inv_cov = model.fit_transform(corr_matrix, cov_matrix, logo=True)\n",
    "\n",
    "print(f'Cliques: {cliques}')\n",
    "print(f'Separators: {seps}')"
   ]
  },
  {
   "cell_type": "code",
   "execution_count": 17,
   "id": "fd4e7a25",
   "metadata": {},
   "outputs": [
    {
     "name": "stdout",
     "output_type": "stream",
     "text": [
      "The matrices are NOT equal.\n"
     ]
    }
   ],
   "source": [
    "# Compare the matrices and print the result.\n",
    "if np.array_equal(adj_matrix, sparse_inv_cov):\n",
    "    print(\"The matrices are equal\")\n",
    "else:\n",
    "    print(\"The matrices are NOT equal.\")"
   ]
  }
 ],
 "metadata": {
  "kernelspec": {
   "display_name": "Python 3 (ipykernel)",
   "language": "python",
   "name": "python3"
  },
  "language_info": {
   "codemirror_mode": {
    "name": "ipython",
    "version": 3
   },
   "file_extension": ".py",
   "mimetype": "text/x-python",
   "name": "python",
   "nbconvert_exporter": "python",
   "pygments_lexer": "ipython3",
   "version": "3.9.13"
  }
 },
 "nbformat": 4,
 "nbformat_minor": 5
}
