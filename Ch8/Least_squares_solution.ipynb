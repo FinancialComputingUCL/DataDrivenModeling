{
 "cells": [
  {
   "cell_type": "markdown",
   "id": "03be8cf1",
   "metadata": {},
   "source": [
    "# Least squares solution of linear regression and correlation coefficients\n",
    "\n",
    "In this notebook we will underline the relationship between least squares solution of linear regression and correlation coefficients.\n",
    "\n",
    "### Linear Regression and Correlation Coefficients\n",
    "\n",
    "In linear regression analysis with two random variables $X$ and $Y$, we aim to compute coefficients that best represent their linear relationship:\n",
    "\n",
    "$ Y = b + \\beta X + \\epsilon $\n",
    "\n",
    "The objective is to minimize the variance of the error $ \\text{Var}(\\epsilon) $, and this approach is known as the least squares method. The error variance can be represented as:\n",
    "\n",
    "$ \\text{Var}(\\epsilon) = \\text{Var}(Y) + \\beta^2 \\text{Var}(X) - 2\\beta \\text{Cov}(X,Y) $\n",
    "\n",
    "Going deeper with this equation we can derive:\n",
    "\n",
    "$ \\frac{\\text{Var}(\\epsilon)}{\\text{Var}(Y)} = (1 - \\text{Corr}(X, Y)^2) $\n",
    "\n",
    "### Coefficient of Determination ($R^2$)\n",
    "\n",
    "What reported above reveals that the square of correlation coefficient $R^2$ is a measure of the goodness of the linear model:\n",
    "\n",
    "$ R^2 = \\text{Corr}(X,Y)^2 $\n",
    "\n",
    "A high $R^2$ value, near 1, indicates that the linear model aptly describes the dependency between the variables. Conversely, when $R^2$ approaches 0, the linear model poorly describes the relationship between the variables."
   ]
  },
  {
   "cell_type": "code",
   "execution_count": 2,
   "id": "7b4e4b62",
   "metadata": {},
   "outputs": [],
   "source": [
    "import numpy as np\n",
    "import matplotlib.pyplot as plt"
   ]
  },
  {
   "cell_type": "code",
   "execution_count": 3,
   "id": "3b16b0d2",
   "metadata": {},
   "outputs": [
    {
     "data": {
      "image/png": "[encoded data removed]",
      "text/plain": [
       "<Figure size 432x288 with 1 Axes>"
      ]
     },
     "metadata": {
      "needs_background": "light"
     },
     "output_type": "display_data"
    },
    {
     "name": "stdout",
     "output_type": "stream",
     "text": [
      "Correlation Coefficient (Corr(X,Y)): 0.8770824028342054\n",
      "Coefficient of Determination (R^2): 0.7692735413614232\n",
      "Variance of Residuals: 0.8065845639670531\n",
      "Expected Variance of Residuals based on R^2: 0.8065845639670501\n"
     ]
    }
   ],
   "source": [
    "# Set a random seed for reproducibility\n",
    "np.random.seed(42)\n",
    "\n",
    "# Let's start generating a synthetic dataset\n",
    "# --------------------------------\n",
    "\n",
    "# Generate random values for X\n",
    "X = 2 * np.random.rand(100, 1)\n",
    "# Generate Y values with a linear relationship to X\n",
    "# For this example, we'll assume a true relationship of Y = 4 + 3X + Gaussian noise\n",
    "Y = 4 + 3 * X + np.random.randn(100, 1)\n",
    "\n",
    "# Let's implement the Linear Regression Algorithm\n",
    "# --------------------------------------------\n",
    "\n",
    "# Calculate the covariance between X and Y\n",
    "cov_XY = np.mean(X * Y) - np.mean(X) * np.mean(Y)\n",
    "\n",
    "# Calculate the variance of X\n",
    "var_X = np.var(X)\n",
    "\n",
    "# Determine the coefficient β using the relationship\n",
    "# β = Cov(X,Y) / Var(X)\n",
    "beta = cov_XY / var_X\n",
    "\n",
    "# Determine the intercept b\n",
    "# b = E(Y) - β * E(X)\n",
    "b = np.mean(Y) - beta * np.mean(X)\n",
    "\n",
    "# Predict values of Y using the obtained b and β\n",
    "Y_pred = b + beta * X\n",
    "\n",
    "# Let's calculate the correlation coefficient, R^2, and relate it to the variance of the errors\n",
    "# ------------------------------------------------------------------------------------------\n",
    "\n",
    "# Calculate the correlation coefficient Corr(X,Y)\n",
    "correlation_coefficient = np.corrcoef(X.squeeze(), Y.squeeze())[0, 1]\n",
    "\n",
    "# Calculate R^2\n",
    "R_squared = correlation_coefficient**2\n",
    "\n",
    "# Calculate the residuals (errors)\n",
    "residuals = Y - Y_pred\n",
    "\n",
    "# Calculate the variance of the residuals\n",
    "var_residuals = np.var(residuals)\n",
    "\n",
    "# Calculate the expected variance of the residuals based on R^2\n",
    "expected_var_residuals = np.var(Y) * (1 - R_squared)\n",
    "\n",
    "# Let's finally plot the results and print the calculated values\n",
    "# ---------------------------------------------------\n",
    "\n",
    "# Plot the original data and the linear regression line\n",
    "plt.scatter(X, Y, label=\"Original Data\")\n",
    "plt.plot(X, Y_pred, color=\"red\", label=\"Linear Regression Line\")\n",
    "plt.xlabel(\"X\")\n",
    "plt.ylabel(\"Y\")\n",
    "plt.title(\"Linear Regression Fit\")\n",
    "plt.legend()\n",
    "plt.grid(True)\n",
    "plt.show()\n",
    "\n",
    "# Print the results\n",
    "print(f\"Correlation Coefficient (Corr(X,Y)): {correlation_coefficient}\")\n",
    "print(f\"Coefficient of Determination (R^2): {R_squared}\")\n",
    "print(f\"Variance of Residuals: {var_residuals}\")\n",
    "print(f\"Expected Variance of Residuals based on R^2: {expected_var_residuals}\")"
   ]
  }
 ],
 "metadata": {
  "kernelspec": {
   "display_name": "Python 3 (ipykernel)",
   "language": "python",
   "name": "python3"
  },
  "language_info": {
   "codemirror_mode": {
    "name": "ipython",
    "version": 3
   },
   "file_extension": ".py",
   "mimetype": "text/x-python",
   "name": "python",
   "nbconvert_exporter": "python",
   "pygments_lexer": "ipython3",
   "version": "3.8.12"
  }
 },
 "nbformat": 4,
 "nbformat_minor": 5
}
