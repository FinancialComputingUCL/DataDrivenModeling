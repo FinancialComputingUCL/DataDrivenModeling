{
 "cells": [
  {
   "cell_type": "markdown",
   "id": "8e8abe10",
   "metadata": {},
   "source": [
    "# Introduction\n",
    "\n",
    "Correlation coefficients quantify the association between variables or features of a dataset. \n",
    "\n",
    "Statistics and data science are often concerned about the relationships between two or more variables (or features) of a dataset. Each data point in the dataset is an observation, and the features are the properties or attributes of those observations.\n",
    "\n",
    "Every dataset you work with uses variables and observations. For example, you might be interested in understanding how the height of basketball players is correlated to their shooting accuracy\n",
    "\n",
    "If you analyze any two features of a dataset, then you’ll find some type of correlation between those two features (show figure of plots here).\n",
    "\n",
    "Each of these plots shows one of three different forms of correlation:\n",
    "\n",
    "- Negative correlation (red dots): In the plot on the left, the y values tend to decrease as the x values increase. This shows strong negative correlation, which occurs when large values of one feature correspond to small values of the other, and vice versa.\n",
    "\n",
    "- Weak or no correlation (green dots): The plot in the middle shows no obvious trend. This is a form of weak correlation, which occurs when an association between two features is not obvious or is hardly observable.\n",
    "\n",
    "- Positive correlation (blue dots): In the plot on the right, the y values tend to increase as the x values increase. This illustrates strong positive correlation, which occurs when large values of one feature correspond to large values of the other, and vice versa.\n",
    "\n",
    "When you’re analyzing correlation, you should always have in mind that correlation does not indicate causation. It quantifies the strength of the relationship between the features of a dataset. Sometimes, the association is caused by a factor common to several features of interest.\n",
    "\n",
    "There are several statistics that you can use to quantify correlation. In this tutorial, you’ll learn about three correlation coefficients:\n",
    "\n",
    "- Pearson’s r\n",
    "- Spearman’s rho\n",
    "- Kendall’s tau\n",
    "\n",
    "Pearson’s coefficient measures linear correlation, while the Spearman and Kendall coefficients compare the ranks of data. There are several NumPy, SciPy, and Pandas correlation functions and methods that you can use to calculate these coefficients. You can also use Matplotlib to conveniently illustrate the results."
   ]
  },
  {
   "cell_type": "markdown",
   "id": "0a5acb01",
   "metadata": {},
   "source": [
    "The Pearson correlation evaluates the linear relationship between two continuous variables. A relationship is linear when a change in one variable is associated with a proportional change in the other variable.\n",
    "\n",
    "Let's start by writing the Pearson's r by hand for a dummy example.\n",
    "\n",
    "$\\rho = \\frac{\\text{cov}(X,Y)}{\\sigma_x \\sigma_y}$\n",
    "\n",
    "Pearson's correlation coefficient is the covariance of the two variables divided by the product of their standard deviations; thus it is essentially a normalized measurement of the covariance, such that the result always has a value between −1 and 1. As with covariance itself, the measure can only reflect a linear correlation of variables, and ignores many other types of relationship or correlation. As a simple example, one would expect the age and height of a sample of teenagers from a high school to have a Pearson correlation coefficient significantly greater than 0, but less than 1 (as 1 would represent an unrealistically perfect correlation)."
   ]
  },
  {
   "cell_type": "code",
   "execution_count": 6,
   "id": "6d27a6ab",
   "metadata": {},
   "outputs": [],
   "source": [
    "import pandas as pd\n",
    "import numpy as np\n",
    "from scipy.stats import *\n",
    "\n",
    "import matplotlib.pyplot as plt\n",
    "import seaborn as sns"
   ]
  },
  {
   "cell_type": "code",
   "execution_count": 7,
   "id": "17d27fd5",
   "metadata": {},
   "outputs": [],
   "source": [
    "x = [438.69461,\n",
    "404.060132,\n",
    "198.210118,\n",
    "386.826542,\n",
    "346.090443,\n",
    "330.09382,\n",
    "249.341107,\n",
    "324.826081,\n",
    "303.760307,\n",
    "388.144244]\n",
    "\n",
    "y = [115.343021,\n",
    "89.971217,\n",
    "174.421423,\n",
    "155.054388,\n",
    "22.921773,\n",
    "352.884202,\n",
    "254.11353,\n",
    "176.763594,\n",
    "265.541998,\n",
    "222.213654]"
   ]
  },
  {
   "cell_type": "code",
   "execution_count": 8,
   "id": "c42af514",
   "metadata": {},
   "outputs": [
    {
     "data": {
      "text/plain": [
       "<matplotlib.collections.PathCollection at 0x7f9bbeba47f0>"
      ]
     },
     "execution_count": 8,
     "metadata": {},
     "output_type": "execute_result"
    },
    {
     "data": {
      "image/png": "[encoded data removed]",
      "text/plain": [
       "<Figure size 432x288 with 1 Axes>"
      ]
     },
     "metadata": {
      "needs_background": "light"
     },
     "output_type": "display_data"
    }
   ],
   "source": [
    "plt.scatter(x, y)"
   ]
  },
  {
   "cell_type": "code",
   "execution_count": 9,
   "id": "e0f79321",
   "metadata": {},
   "outputs": [
    {
     "name": "stdout",
     "output_type": "stream",
     "text": [
      "[(438.69461, 115.343021), (404.060132, 89.971217), (198.210118, 174.421423), (386.826542, 155.054388), (346.090443, 22.921773), (330.09382, 352.884202), (249.341107, 254.11353), (324.826081, 176.763594), (303.760307, 265.541998), (388.144244, 222.213654)]\n"
     ]
    }
   ],
   "source": [
    "transform = list(zip(x,y)) # -> list of tuples\n",
    "print(transform)"
   ]
  },
  {
   "cell_type": "code",
   "execution_count": 10,
   "id": "0ada401c",
   "metadata": {},
   "outputs": [
    {
     "name": "stdout",
     "output_type": "stream",
     "text": [
      "10\n"
     ]
    }
   ],
   "source": [
    "N = len(transform)\n",
    "print(N)"
   ]
  },
  {
   "cell_type": "markdown",
   "id": "f64b5227",
   "metadata": {},
   "source": [
    "Let's recap how the covariance is defined."
   ]
  },
  {
   "cell_type": "markdown",
   "id": "27a03e41",
   "metadata": {},
   "source": [
    "$cov_{x,y}=\\frac{\\sum_{i=1}^{N}(x_{i}-\\bar{x})(y_{i}-\\bar{y})}{N-1}$"
   ]
  },
  {
   "cell_type": "code",
   "execution_count": 11,
   "id": "657d6904",
   "metadata": {},
   "outputs": [],
   "source": [
    "# Calculate covariance\n",
    "cov = sum([(i - np.mean(x)) * (j - np.mean(y)) for i, j in zip(x, y)]) / (N-1)"
   ]
  },
  {
   "cell_type": "code",
   "execution_count": 12,
   "id": "2a011c4c",
   "metadata": {},
   "outputs": [],
   "source": [
    "# Calculate the standard devs of x and y\n",
    "sx, sy = np.std(x, ddof=1), np.std(y, ddof=1)"
   ]
  },
  {
   "cell_type": "code",
   "execution_count": 13,
   "id": "ab43e67a",
   "metadata": {},
   "outputs": [
    {
     "name": "stdout",
     "output_type": "stream",
     "text": [
      "-0.3630848051556617\n"
     ]
    }
   ],
   "source": [
    "r = cov / (sx * sy)\n",
    "print(r)"
   ]
  },
  {
   "cell_type": "markdown",
   "id": "9f15d058",
   "metadata": {},
   "source": [
    "It is clear that we do not need to write each time the code by hand. Indeed we can use different Python packages. Let's see how we can apply these packages to our data."
   ]
  },
  {
   "cell_type": "code",
   "execution_count": 14,
   "id": "3d2eb214",
   "metadata": {},
   "outputs": [
    {
     "name": "stdout",
     "output_type": "stream",
     "text": [
      "6\n"
     ]
    }
   ],
   "source": [
    "portfolio = ['BTC/USD', 'ETH/USD', 'SOL/USD', 'BNB/USD', 'LTC/USD', 'DOGE/USD']\n",
    "print(len(portfolio))"
   ]
  },
  {
   "cell_type": "markdown",
   "id": "0fbf8045",
   "metadata": {},
   "source": [
    "We should now create a data structure and add data for our purposes."
   ]
  },
  {
   "cell_type": "code",
   "execution_count": 15,
   "id": "fd48a92b",
   "metadata": {},
   "outputs": [],
   "source": [
    "def create_data_dictionary(portfolio):\n",
    "    \n",
    "    data_portfolio = {}\n",
    "    \n",
    "    for asset in portfolio:\n",
    "        pair = asset\n",
    "        pair = pair.replace('/', '-')\n",
    "        df = pd.read_csv(f'../data_download_moodle/data/data_{pair}.csv')\n",
    "        \n",
    "        data_portfolio[asset] = df\n",
    "    \n",
    "    return data_portfolio"
   ]
  },
  {
   "cell_type": "code",
   "execution_count": 16,
   "id": "5f2691b8",
   "metadata": {},
   "outputs": [],
   "source": [
    "data_portfolio = create_data_dictionary(portfolio)"
   ]
  },
  {
   "cell_type": "code",
   "execution_count": 17,
   "id": "dc579bc8",
   "metadata": {},
   "outputs": [
    {
     "data": {
      "text/plain": [
       "dict_keys(['BTC/USD', 'ETH/USD', 'SOL/USD', 'BNB/USD', 'LTC/USD', 'DOGE/USD'])"
      ]
     },
     "execution_count": 17,
     "metadata": {},
     "output_type": "execute_result"
    }
   ],
   "source": [
    "data_portfolio.keys()"
   ]
  },
  {
   "cell_type": "code",
   "execution_count": 18,
   "id": "57cc91c0",
   "metadata": {},
   "outputs": [
    {
     "name": "stdout",
     "output_type": "stream",
     "text": [
      "<class 'pandas.core.frame.DataFrame'>\n",
      "<class 'pandas.core.frame.DataFrame'>\n",
      "<class 'pandas.core.frame.DataFrame'>\n",
      "<class 'pandas.core.frame.DataFrame'>\n",
      "<class 'pandas.core.frame.DataFrame'>\n",
      "<class 'pandas.core.frame.DataFrame'>\n"
     ]
    }
   ],
   "source": [
    "for key in data_portfolio.keys():\n",
    "    print(type(data_portfolio[key]))"
   ]
  },
  {
   "cell_type": "code",
   "execution_count": 19,
   "id": "41bea783",
   "metadata": {},
   "outputs": [
    {
     "data": {
      "text/html": [
       "<div>\n",
       "<style scoped>\n",
       "    .dataframe tbody tr th:only-of-type {\n",
       "        vertical-align: middle;\n",
       "    }\n",
       "\n",
       "    .dataframe tbody tr th {\n",
       "        vertical-align: top;\n",
       "    }\n",
       "\n",
       "    .dataframe thead th {\n",
       "        text-align: right;\n",
       "    }\n",
       "</style>\n",
       "<table border=\"1\" class=\"dataframe\">\n",
       "  <thead>\n",
       "    <tr style=\"text-align: right;\">\n",
       "      <th></th>\n",
       "      <th>Time</th>\n",
       "      <th>Open</th>\n",
       "      <th>High</th>\n",
       "      <th>Low</th>\n",
       "      <th>Close</th>\n",
       "      <th>Volume</th>\n",
       "    </tr>\n",
       "  </thead>\n",
       "  <tbody>\n",
       "    <tr>\n",
       "      <th>0</th>\n",
       "      <td>2021-12-25 00:00:00</td>\n",
       "      <td>50796.0</td>\n",
       "      <td>50807.0</td>\n",
       "      <td>50566.0</td>\n",
       "      <td>50670.0</td>\n",
       "      <td>2.293749e+06</td>\n",
       "    </tr>\n",
       "    <tr>\n",
       "      <th>1</th>\n",
       "      <td>2021-12-25 00:05:00</td>\n",
       "      <td>50670.0</td>\n",
       "      <td>50783.0</td>\n",
       "      <td>50669.0</td>\n",
       "      <td>50741.0</td>\n",
       "      <td>2.025913e+06</td>\n",
       "    </tr>\n",
       "    <tr>\n",
       "      <th>2</th>\n",
       "      <td>2021-12-25 00:10:00</td>\n",
       "      <td>50741.0</td>\n",
       "      <td>50741.0</td>\n",
       "      <td>50535.0</td>\n",
       "      <td>50582.0</td>\n",
       "      <td>2.897014e+06</td>\n",
       "    </tr>\n",
       "    <tr>\n",
       "      <th>3</th>\n",
       "      <td>2021-12-25 00:15:00</td>\n",
       "      <td>50582.0</td>\n",
       "      <td>50681.0</td>\n",
       "      <td>50521.0</td>\n",
       "      <td>50681.0</td>\n",
       "      <td>1.785521e+06</td>\n",
       "    </tr>\n",
       "    <tr>\n",
       "      <th>4</th>\n",
       "      <td>2021-12-25 00:20:00</td>\n",
       "      <td>50681.0</td>\n",
       "      <td>50767.0</td>\n",
       "      <td>50652.0</td>\n",
       "      <td>50756.0</td>\n",
       "      <td>1.062458e+06</td>\n",
       "    </tr>\n",
       "    <tr>\n",
       "      <th>...</th>\n",
       "      <td>...</td>\n",
       "      <td>...</td>\n",
       "      <td>...</td>\n",
       "      <td>...</td>\n",
       "      <td>...</td>\n",
       "      <td>...</td>\n",
       "    </tr>\n",
       "    <tr>\n",
       "      <th>2587</th>\n",
       "      <td>2022-01-02 23:35:00</td>\n",
       "      <td>47239.0</td>\n",
       "      <td>47406.0</td>\n",
       "      <td>47213.0</td>\n",
       "      <td>47315.0</td>\n",
       "      <td>1.185534e+06</td>\n",
       "    </tr>\n",
       "    <tr>\n",
       "      <th>2588</th>\n",
       "      <td>2022-01-02 23:40:00</td>\n",
       "      <td>47315.0</td>\n",
       "      <td>47394.0</td>\n",
       "      <td>47315.0</td>\n",
       "      <td>47394.0</td>\n",
       "      <td>3.286963e+05</td>\n",
       "    </tr>\n",
       "    <tr>\n",
       "      <th>2589</th>\n",
       "      <td>2022-01-02 23:45:00</td>\n",
       "      <td>47394.0</td>\n",
       "      <td>47394.0</td>\n",
       "      <td>47299.0</td>\n",
       "      <td>47300.0</td>\n",
       "      <td>4.014382e+05</td>\n",
       "    </tr>\n",
       "    <tr>\n",
       "      <th>2590</th>\n",
       "      <td>2022-01-02 23:50:00</td>\n",
       "      <td>47300.0</td>\n",
       "      <td>47300.0</td>\n",
       "      <td>47248.0</td>\n",
       "      <td>47284.0</td>\n",
       "      <td>1.202602e+06</td>\n",
       "    </tr>\n",
       "    <tr>\n",
       "      <th>2591</th>\n",
       "      <td>2022-01-02 23:55:00</td>\n",
       "      <td>47284.0</td>\n",
       "      <td>47316.0</td>\n",
       "      <td>47252.0</td>\n",
       "      <td>47276.0</td>\n",
       "      <td>6.784927e+05</td>\n",
       "    </tr>\n",
       "  </tbody>\n",
       "</table>\n",
       "<p>2592 rows × 6 columns</p>\n",
       "</div>"
      ],
      "text/plain": [
       "                     Time     Open     High      Low    Close        Volume\n",
       "0     2021-12-25 00:00:00  50796.0  50807.0  50566.0  50670.0  2.293749e+06\n",
       "1     2021-12-25 00:05:00  50670.0  50783.0  50669.0  50741.0  2.025913e+06\n",
       "2     2021-12-25 00:10:00  50741.0  50741.0  50535.0  50582.0  2.897014e+06\n",
       "3     2021-12-25 00:15:00  50582.0  50681.0  50521.0  50681.0  1.785521e+06\n",
       "4     2021-12-25 00:20:00  50681.0  50767.0  50652.0  50756.0  1.062458e+06\n",
       "...                   ...      ...      ...      ...      ...           ...\n",
       "2587  2022-01-02 23:35:00  47239.0  47406.0  47213.0  47315.0  1.185534e+06\n",
       "2588  2022-01-02 23:40:00  47315.0  47394.0  47315.0  47394.0  3.286963e+05\n",
       "2589  2022-01-02 23:45:00  47394.0  47394.0  47299.0  47300.0  4.014382e+05\n",
       "2590  2022-01-02 23:50:00  47300.0  47300.0  47248.0  47284.0  1.202602e+06\n",
       "2591  2022-01-02 23:55:00  47284.0  47316.0  47252.0  47276.0  6.784927e+05\n",
       "\n",
       "[2592 rows x 6 columns]"
      ]
     },
     "execution_count": 19,
     "metadata": {},
     "output_type": "execute_result"
    }
   ],
   "source": [
    "data_portfolio['BTC/USD']"
   ]
  },
  {
   "cell_type": "markdown",
   "id": "a50ac2d5",
   "metadata": {},
   "source": [
    "Let's compute log returns and create a dictionary with these new values."
   ]
  },
  {
   "cell_type": "code",
   "execution_count": 20,
   "id": "b5eed9a3",
   "metadata": {},
   "outputs": [],
   "source": [
    "def create_log_dict(data_portfolio):\n",
    "    \n",
    "    log_dict = {}\n",
    "    \n",
    "    for key in data_portfolio.keys():\n",
    "        closing_prices = data_portfolio[key]['Close']\n",
    "        log_dict[key] = (np.log(closing_prices) - np.log(closing_prices.shift(1))).dropna()\n",
    "    \n",
    "    return log_dict"
   ]
  },
  {
   "cell_type": "code",
   "execution_count": 21,
   "id": "902fada1",
   "metadata": {},
   "outputs": [],
   "source": [
    "log_rets_portfolio = create_log_dict(data_portfolio)"
   ]
  },
  {
   "cell_type": "code",
   "execution_count": 22,
   "id": "5d31ba96",
   "metadata": {},
   "outputs": [],
   "source": [
    "log_rets_portfolio_df = pd.DataFrame(log_rets_portfolio)"
   ]
  },
  {
   "cell_type": "code",
   "execution_count": 23,
   "id": "63bee345",
   "metadata": {},
   "outputs": [
    {
     "data": {
      "text/html": [
       "<div>\n",
       "<style scoped>\n",
       "    .dataframe tbody tr th:only-of-type {\n",
       "        vertical-align: middle;\n",
       "    }\n",
       "\n",
       "    .dataframe tbody tr th {\n",
       "        vertical-align: top;\n",
       "    }\n",
       "\n",
       "    .dataframe thead th {\n",
       "        text-align: right;\n",
       "    }\n",
       "</style>\n",
       "<table border=\"1\" class=\"dataframe\">\n",
       "  <thead>\n",
       "    <tr style=\"text-align: right;\">\n",
       "      <th></th>\n",
       "      <th>BTC/USD</th>\n",
       "      <th>ETH/USD</th>\n",
       "      <th>SOL/USD</th>\n",
       "      <th>BNB/USD</th>\n",
       "      <th>LTC/USD</th>\n",
       "      <th>DOGE/USD</th>\n",
       "    </tr>\n",
       "  </thead>\n",
       "  <tbody>\n",
       "    <tr>\n",
       "      <th>1</th>\n",
       "      <td>0.001400</td>\n",
       "      <td>-0.000074</td>\n",
       "      <td>0.000987</td>\n",
       "      <td>0.000780</td>\n",
       "      <td>0.001859</td>\n",
       "      <td>-0.001650</td>\n",
       "    </tr>\n",
       "    <tr>\n",
       "      <th>2</th>\n",
       "      <td>-0.003138</td>\n",
       "      <td>-0.005024</td>\n",
       "      <td>-0.005698</td>\n",
       "      <td>-0.004940</td>\n",
       "      <td>-0.005557</td>\n",
       "      <td>-0.007323</td>\n",
       "    </tr>\n",
       "    <tr>\n",
       "      <th>3</th>\n",
       "      <td>0.001955</td>\n",
       "      <td>0.002057</td>\n",
       "      <td>0.003868</td>\n",
       "      <td>0.003032</td>\n",
       "      <td>0.002084</td>\n",
       "      <td>0.004378</td>\n",
       "    </tr>\n",
       "    <tr>\n",
       "      <th>4</th>\n",
       "      <td>0.001479</td>\n",
       "      <td>0.001682</td>\n",
       "      <td>0.002251</td>\n",
       "      <td>0.001427</td>\n",
       "      <td>0.002885</td>\n",
       "      <td>0.002422</td>\n",
       "    </tr>\n",
       "    <tr>\n",
       "      <th>5</th>\n",
       "      <td>0.000059</td>\n",
       "      <td>-0.000321</td>\n",
       "      <td>0.001379</td>\n",
       "      <td>-0.000077</td>\n",
       "      <td>-0.000217</td>\n",
       "      <td>0.000630</td>\n",
       "    </tr>\n",
       "    <tr>\n",
       "      <th>...</th>\n",
       "      <td>...</td>\n",
       "      <td>...</td>\n",
       "      <td>...</td>\n",
       "      <td>...</td>\n",
       "      <td>...</td>\n",
       "      <td>...</td>\n",
       "    </tr>\n",
       "    <tr>\n",
       "      <th>2587</th>\n",
       "      <td>0.001608</td>\n",
       "      <td>0.000287</td>\n",
       "      <td>0.000964</td>\n",
       "      <td>0.000491</td>\n",
       "      <td>0.001357</td>\n",
       "      <td>0.001198</td>\n",
       "    </tr>\n",
       "    <tr>\n",
       "      <th>2588</th>\n",
       "      <td>0.001668</td>\n",
       "      <td>-0.000392</td>\n",
       "      <td>0.000651</td>\n",
       "      <td>0.000755</td>\n",
       "      <td>0.001190</td>\n",
       "      <td>0.000730</td>\n",
       "    </tr>\n",
       "    <tr>\n",
       "      <th>2589</th>\n",
       "      <td>-0.001985</td>\n",
       "      <td>-0.001856</td>\n",
       "      <td>-0.000750</td>\n",
       "      <td>-0.000828</td>\n",
       "      <td>-0.002149</td>\n",
       "      <td>-0.002850</td>\n",
       "    </tr>\n",
       "    <tr>\n",
       "      <th>2590</th>\n",
       "      <td>-0.000338</td>\n",
       "      <td>0.001203</td>\n",
       "      <td>0.001260</td>\n",
       "      <td>0.000294</td>\n",
       "      <td>-0.000033</td>\n",
       "      <td>0.000517</td>\n",
       "    </tr>\n",
       "    <tr>\n",
       "      <th>2591</th>\n",
       "      <td>-0.000169</td>\n",
       "      <td>0.000418</td>\n",
       "      <td>0.000721</td>\n",
       "      <td>0.000105</td>\n",
       "      <td>0.000794</td>\n",
       "      <td>0.002150</td>\n",
       "    </tr>\n",
       "  </tbody>\n",
       "</table>\n",
       "<p>2591 rows × 6 columns</p>\n",
       "</div>"
      ],
      "text/plain": [
       "       BTC/USD   ETH/USD   SOL/USD   BNB/USD   LTC/USD  DOGE/USD\n",
       "1     0.001400 -0.000074  0.000987  0.000780  0.001859 -0.001650\n",
       "2    -0.003138 -0.005024 -0.005698 -0.004940 -0.005557 -0.007323\n",
       "3     0.001955  0.002057  0.003868  0.003032  0.002084  0.004378\n",
       "4     0.001479  0.001682  0.002251  0.001427  0.002885  0.002422\n",
       "5     0.000059 -0.000321  0.001379 -0.000077 -0.000217  0.000630\n",
       "...        ...       ...       ...       ...       ...       ...\n",
       "2587  0.001608  0.000287  0.000964  0.000491  0.001357  0.001198\n",
       "2588  0.001668 -0.000392  0.000651  0.000755  0.001190  0.000730\n",
       "2589 -0.001985 -0.001856 -0.000750 -0.000828 -0.002149 -0.002850\n",
       "2590 -0.000338  0.001203  0.001260  0.000294 -0.000033  0.000517\n",
       "2591 -0.000169  0.000418  0.000721  0.000105  0.000794  0.002150\n",
       "\n",
       "[2591 rows x 6 columns]"
      ]
     },
     "execution_count": 23,
     "metadata": {},
     "output_type": "execute_result"
    }
   ],
   "source": [
    "log_rets_portfolio_df"
   ]
  },
  {
   "cell_type": "code",
   "execution_count": 24,
   "id": "d2598794",
   "metadata": {},
   "outputs": [],
   "source": [
    "corr_matrix = log_rets_portfolio_df.corr()"
   ]
  },
  {
   "cell_type": "code",
   "execution_count": 25,
   "id": "0fbb2e96",
   "metadata": {},
   "outputs": [
    {
     "data": {
      "text/html": [
       "<div>\n",
       "<style scoped>\n",
       "    .dataframe tbody tr th:only-of-type {\n",
       "        vertical-align: middle;\n",
       "    }\n",
       "\n",
       "    .dataframe tbody tr th {\n",
       "        vertical-align: top;\n",
       "    }\n",
       "\n",
       "    .dataframe thead th {\n",
       "        text-align: right;\n",
       "    }\n",
       "</style>\n",
       "<table border=\"1\" class=\"dataframe\">\n",
       "  <thead>\n",
       "    <tr style=\"text-align: right;\">\n",
       "      <th></th>\n",
       "      <th>BTC/USD</th>\n",
       "      <th>ETH/USD</th>\n",
       "      <th>SOL/USD</th>\n",
       "      <th>BNB/USD</th>\n",
       "      <th>LTC/USD</th>\n",
       "      <th>DOGE/USD</th>\n",
       "    </tr>\n",
       "  </thead>\n",
       "  <tbody>\n",
       "    <tr>\n",
       "      <th>BTC/USD</th>\n",
       "      <td>1.000000</td>\n",
       "      <td>0.865205</td>\n",
       "      <td>0.721419</td>\n",
       "      <td>0.830740</td>\n",
       "      <td>0.842014</td>\n",
       "      <td>0.777542</td>\n",
       "    </tr>\n",
       "    <tr>\n",
       "      <th>ETH/USD</th>\n",
       "      <td>0.865205</td>\n",
       "      <td>1.000000</td>\n",
       "      <td>0.733600</td>\n",
       "      <td>0.837382</td>\n",
       "      <td>0.830682</td>\n",
       "      <td>0.768674</td>\n",
       "    </tr>\n",
       "    <tr>\n",
       "      <th>SOL/USD</th>\n",
       "      <td>0.721419</td>\n",
       "      <td>0.733600</td>\n",
       "      <td>1.000000</td>\n",
       "      <td>0.742351</td>\n",
       "      <td>0.709507</td>\n",
       "      <td>0.689566</td>\n",
       "    </tr>\n",
       "    <tr>\n",
       "      <th>BNB/USD</th>\n",
       "      <td>0.830740</td>\n",
       "      <td>0.837382</td>\n",
       "      <td>0.742351</td>\n",
       "      <td>1.000000</td>\n",
       "      <td>0.829016</td>\n",
       "      <td>0.781486</td>\n",
       "    </tr>\n",
       "    <tr>\n",
       "      <th>LTC/USD</th>\n",
       "      <td>0.842014</td>\n",
       "      <td>0.830682</td>\n",
       "      <td>0.709507</td>\n",
       "      <td>0.829016</td>\n",
       "      <td>1.000000</td>\n",
       "      <td>0.780631</td>\n",
       "    </tr>\n",
       "    <tr>\n",
       "      <th>DOGE/USD</th>\n",
       "      <td>0.777542</td>\n",
       "      <td>0.768674</td>\n",
       "      <td>0.689566</td>\n",
       "      <td>0.781486</td>\n",
       "      <td>0.780631</td>\n",
       "      <td>1.000000</td>\n",
       "    </tr>\n",
       "  </tbody>\n",
       "</table>\n",
       "</div>"
      ],
      "text/plain": [
       "           BTC/USD   ETH/USD   SOL/USD   BNB/USD   LTC/USD  DOGE/USD\n",
       "BTC/USD   1.000000  0.865205  0.721419  0.830740  0.842014  0.777542\n",
       "ETH/USD   0.865205  1.000000  0.733600  0.837382  0.830682  0.768674\n",
       "SOL/USD   0.721419  0.733600  1.000000  0.742351  0.709507  0.689566\n",
       "BNB/USD   0.830740  0.837382  0.742351  1.000000  0.829016  0.781486\n",
       "LTC/USD   0.842014  0.830682  0.709507  0.829016  1.000000  0.780631\n",
       "DOGE/USD  0.777542  0.768674  0.689566  0.781486  0.780631  1.000000"
      ]
     },
     "execution_count": 25,
     "metadata": {},
     "output_type": "execute_result"
    }
   ],
   "source": [
    "corr_matrix"
   ]
  },
  {
   "cell_type": "code",
   "execution_count": 26,
   "id": "438b3dfa",
   "metadata": {},
   "outputs": [
    {
     "data": {
      "text/plain": [
       "<AxesSubplot:>"
      ]
     },
     "execution_count": 26,
     "metadata": {},
     "output_type": "execute_result"
    },
    {
     "data": {
      "image/png": "[encoded data removed]",
      "text/plain": [
       "<Figure size 432x288 with 2 Axes>"
      ]
     },
     "metadata": {
      "needs_background": "light"
     },
     "output_type": "display_data"
    }
   ],
   "source": [
    "sns.heatmap(corr_matrix, \n",
    "        xticklabels=corr_matrix.columns,\n",
    "        yticklabels=corr_matrix.columns)"
   ]
  },
  {
   "cell_type": "markdown",
   "id": "c341de79",
   "metadata": {},
   "source": [
    "We now want to show also values."
   ]
  },
  {
   "cell_type": "code",
   "execution_count": 27,
   "id": "072fd3e8",
   "metadata": {},
   "outputs": [
    {
     "data": {
      "text/plain": [
       "<AxesSubplot:>"
      ]
     },
     "execution_count": 27,
     "metadata": {},
     "output_type": "execute_result"
    },
    {
     "data": {
      "image/png": "[encoded data removed]",
      "text/plain": [
       "<Figure size 432x288 with 2 Axes>"
      ]
     },
     "metadata": {
      "needs_background": "light"
     },
     "output_type": "display_data"
    }
   ],
   "source": [
    "sns.heatmap(corr_matrix, \n",
    "        xticklabels=corr_matrix.columns,\n",
    "        yticklabels=corr_matrix.columns, annot=True)"
   ]
  },
  {
   "cell_type": "markdown",
   "id": "c5f6d0a1",
   "metadata": {},
   "source": [
    "The correlation matrix is simmetric so we can use the upper traingular matrix."
   ]
  },
  {
   "cell_type": "code",
   "execution_count": 28,
   "id": "d0a2973b",
   "metadata": {},
   "outputs": [],
   "source": [
    "mask = np.triu(np.ones_like(corr_matrix, dtype=bool))\n",
    "cmap = sns.diverging_palette(230, 20, as_cmap=True)"
   ]
  },
  {
   "cell_type": "code",
   "execution_count": 29,
   "id": "3be7e5a3",
   "metadata": {},
   "outputs": [
    {
     "data": {
      "text/plain": [
       "<AxesSubplot:>"
      ]
     },
     "execution_count": 29,
     "metadata": {},
     "output_type": "execute_result"
    },
    {
     "data": {
      "image/png": "[encoded data removed]",
      "text/plain": [
       "<Figure size 432x288 with 2 Axes>"
      ]
     },
     "metadata": {
      "needs_background": "light"
     },
     "output_type": "display_data"
    }
   ],
   "source": [
    "sns.heatmap(corr_matrix, mask=mask, cmap=cmap, square=True)"
   ]
  },
  {
   "cell_type": "markdown",
   "id": "1bb42b96",
   "metadata": {},
   "source": [
    "Now you could be interested in studying the average correlation coefficient."
   ]
  },
  {
   "cell_type": "code",
   "execution_count": 30,
   "id": "6bdc33f0",
   "metadata": {},
   "outputs": [],
   "source": [
    "corr_matrix_2 = corr_matrix.copy()\n",
    "corr_matrix_2.values[np.tril_indices_from(corr_matrix_2)] = np.nan # tril or triu"
   ]
  },
  {
   "cell_type": "code",
   "execution_count": 31,
   "id": "3c84cfe6",
   "metadata": {},
   "outputs": [
    {
     "data": {
      "text/html": [
       "<div>\n",
       "<style scoped>\n",
       "    .dataframe tbody tr th:only-of-type {\n",
       "        vertical-align: middle;\n",
       "    }\n",
       "\n",
       "    .dataframe tbody tr th {\n",
       "        vertical-align: top;\n",
       "    }\n",
       "\n",
       "    .dataframe thead th {\n",
       "        text-align: right;\n",
       "    }\n",
       "</style>\n",
       "<table border=\"1\" class=\"dataframe\">\n",
       "  <thead>\n",
       "    <tr style=\"text-align: right;\">\n",
       "      <th></th>\n",
       "      <th>BTC/USD</th>\n",
       "      <th>ETH/USD</th>\n",
       "      <th>SOL/USD</th>\n",
       "      <th>BNB/USD</th>\n",
       "      <th>LTC/USD</th>\n",
       "      <th>DOGE/USD</th>\n",
       "    </tr>\n",
       "  </thead>\n",
       "  <tbody>\n",
       "    <tr>\n",
       "      <th>BTC/USD</th>\n",
       "      <td>NaN</td>\n",
       "      <td>0.865205</td>\n",
       "      <td>0.721419</td>\n",
       "      <td>0.830740</td>\n",
       "      <td>0.842014</td>\n",
       "      <td>0.777542</td>\n",
       "    </tr>\n",
       "    <tr>\n",
       "      <th>ETH/USD</th>\n",
       "      <td>NaN</td>\n",
       "      <td>NaN</td>\n",
       "      <td>0.733600</td>\n",
       "      <td>0.837382</td>\n",
       "      <td>0.830682</td>\n",
       "      <td>0.768674</td>\n",
       "    </tr>\n",
       "    <tr>\n",
       "      <th>SOL/USD</th>\n",
       "      <td>NaN</td>\n",
       "      <td>NaN</td>\n",
       "      <td>NaN</td>\n",
       "      <td>0.742351</td>\n",
       "      <td>0.709507</td>\n",
       "      <td>0.689566</td>\n",
       "    </tr>\n",
       "    <tr>\n",
       "      <th>BNB/USD</th>\n",
       "      <td>NaN</td>\n",
       "      <td>NaN</td>\n",
       "      <td>NaN</td>\n",
       "      <td>NaN</td>\n",
       "      <td>0.829016</td>\n",
       "      <td>0.781486</td>\n",
       "    </tr>\n",
       "    <tr>\n",
       "      <th>LTC/USD</th>\n",
       "      <td>NaN</td>\n",
       "      <td>NaN</td>\n",
       "      <td>NaN</td>\n",
       "      <td>NaN</td>\n",
       "      <td>NaN</td>\n",
       "      <td>0.780631</td>\n",
       "    </tr>\n",
       "    <tr>\n",
       "      <th>DOGE/USD</th>\n",
       "      <td>NaN</td>\n",
       "      <td>NaN</td>\n",
       "      <td>NaN</td>\n",
       "      <td>NaN</td>\n",
       "      <td>NaN</td>\n",
       "      <td>NaN</td>\n",
       "    </tr>\n",
       "  </tbody>\n",
       "</table>\n",
       "</div>"
      ],
      "text/plain": [
       "          BTC/USD   ETH/USD   SOL/USD   BNB/USD   LTC/USD  DOGE/USD\n",
       "BTC/USD       NaN  0.865205  0.721419  0.830740  0.842014  0.777542\n",
       "ETH/USD       NaN       NaN  0.733600  0.837382  0.830682  0.768674\n",
       "SOL/USD       NaN       NaN       NaN  0.742351  0.709507  0.689566\n",
       "BNB/USD       NaN       NaN       NaN       NaN  0.829016  0.781486\n",
       "LTC/USD       NaN       NaN       NaN       NaN       NaN  0.780631\n",
       "DOGE/USD      NaN       NaN       NaN       NaN       NaN       NaN"
      ]
     },
     "execution_count": 31,
     "metadata": {},
     "output_type": "execute_result"
    }
   ],
   "source": [
    "corr_matrix_2"
   ]
  },
  {
   "cell_type": "code",
   "execution_count": 32,
   "id": "bf6ae45a",
   "metadata": {},
   "outputs": [
    {
     "name": "stdout",
     "output_type": "stream",
     "text": [
      "Average correlation coefficient: 0.7826542221181481\n"
     ]
    }
   ],
   "source": [
    "print(f'Average correlation coefficient: {corr_matrix_2.unstack().mean()}')"
   ]
  },
  {
   "cell_type": "code",
   "execution_count": 33,
   "id": "89dc51c6",
   "metadata": {},
   "outputs": [
    {
     "name": "stdout",
     "output_type": "stream",
     "text": [
      "Std correlation coefficient: 0.054853799567641505\n"
     ]
    }
   ],
   "source": [
    "print(f'Std correlation coefficient: {corr_matrix_2.unstack().std()}')"
   ]
  },
  {
   "cell_type": "markdown",
   "id": "4f8d5695",
   "metadata": {},
   "source": [
    "Now we want to compute the Spearman correlation coefficient.\n",
    "\n",
    "The Spearman correlation evaluates the monotonic relationship between two continuous or ordinal variables. In a monotonic relationship, the variables tend to change together, but not necessarily at a constant rate. The Spearman correlation coefficient is based on the ranked values for each variable rather than the raw data.\n",
    "\n",
    "Spearman correlation is often used to evaluate relationships involving ordinal variables. For example, you might use a Spearman correlation to evaluate whether the order in which employees complete a test exercise is related to the number of months they have been employed."
   ]
  },
  {
   "cell_type": "code",
   "execution_count": 34,
   "id": "8927ea04",
   "metadata": {},
   "outputs": [],
   "source": [
    "corr_matrix = log_rets_portfolio_df.corr(method='spearman')"
   ]
  },
  {
   "cell_type": "code",
   "execution_count": 35,
   "id": "3afee7dc",
   "metadata": {},
   "outputs": [
    {
     "data": {
      "text/plain": [
       "<AxesSubplot:>"
      ]
     },
     "execution_count": 35,
     "metadata": {},
     "output_type": "execute_result"
    },
    {
     "data": {
      "image/png": "[encoded data removed]",
      "text/plain": [
       "<Figure size 432x288 with 2 Axes>"
      ]
     },
     "metadata": {
      "needs_background": "light"
     },
     "output_type": "display_data"
    }
   ],
   "source": [
    "sns.heatmap(corr_matrix, \n",
    "        xticklabels=corr_matrix.columns,\n",
    "        yticklabels=corr_matrix.columns, annot=True)"
   ]
  },
  {
   "cell_type": "markdown",
   "id": "2299a8c3",
   "metadata": {},
   "source": [
    "What about the Kendall correlation coefficient."
   ]
  },
  {
   "cell_type": "code",
   "execution_count": 36,
   "id": "ea2e8220",
   "metadata": {},
   "outputs": [],
   "source": [
    "corr_matrix = log_rets_portfolio_df.corr(method='kendall')"
   ]
  },
  {
   "cell_type": "code",
   "execution_count": 37,
   "id": "26d74a47",
   "metadata": {},
   "outputs": [
    {
     "data": {
      "text/plain": [
       "<AxesSubplot:>"
      ]
     },
     "execution_count": 37,
     "metadata": {},
     "output_type": "execute_result"
    },
    {
     "data": {
      "image/png": "[encoded data removed]",
      "text/plain": [
       "<Figure size 432x288 with 2 Axes>"
      ]
     },
     "metadata": {
      "needs_background": "light"
     },
     "output_type": "display_data"
    }
   ],
   "source": [
    "sns.heatmap(corr_matrix, \n",
    "        xticklabels=corr_matrix.columns,\n",
    "        yticklabels=corr_matrix.columns, annot=True)"
   ]
  },
  {
   "cell_type": "markdown",
   "id": "963d2e7a",
   "metadata": {},
   "source": [
    "Let's see another way and another library to compute the correlation coefficient."
   ]
  },
  {
   "cell_type": "code",
   "execution_count": 38,
   "id": "d38b17d3",
   "metadata": {},
   "outputs": [
    {
     "data": {
      "text/html": [
       "<div>\n",
       "<style scoped>\n",
       "    .dataframe tbody tr th:only-of-type {\n",
       "        vertical-align: middle;\n",
       "    }\n",
       "\n",
       "    .dataframe tbody tr th {\n",
       "        vertical-align: top;\n",
       "    }\n",
       "\n",
       "    .dataframe thead th {\n",
       "        text-align: right;\n",
       "    }\n",
       "</style>\n",
       "<table border=\"1\" class=\"dataframe\">\n",
       "  <thead>\n",
       "    <tr style=\"text-align: right;\">\n",
       "      <th></th>\n",
       "      <th>BTC/USD</th>\n",
       "      <th>ETH/USD</th>\n",
       "      <th>SOL/USD</th>\n",
       "      <th>BNB/USD</th>\n",
       "      <th>LTC/USD</th>\n",
       "      <th>DOGE/USD</th>\n",
       "    </tr>\n",
       "  </thead>\n",
       "  <tbody>\n",
       "    <tr>\n",
       "      <th>BTC/USD</th>\n",
       "      <td>1.000000</td>\n",
       "      <td>0.865205</td>\n",
       "      <td>0.721419</td>\n",
       "      <td>0.830740</td>\n",
       "      <td>0.842014</td>\n",
       "      <td>0.777542</td>\n",
       "    </tr>\n",
       "    <tr>\n",
       "      <th>ETH/USD</th>\n",
       "      <td>0.865205</td>\n",
       "      <td>1.000000</td>\n",
       "      <td>0.733600</td>\n",
       "      <td>0.837382</td>\n",
       "      <td>0.830682</td>\n",
       "      <td>0.768674</td>\n",
       "    </tr>\n",
       "    <tr>\n",
       "      <th>SOL/USD</th>\n",
       "      <td>0.721419</td>\n",
       "      <td>0.733600</td>\n",
       "      <td>1.000000</td>\n",
       "      <td>0.742351</td>\n",
       "      <td>0.709507</td>\n",
       "      <td>0.689566</td>\n",
       "    </tr>\n",
       "    <tr>\n",
       "      <th>BNB/USD</th>\n",
       "      <td>0.830740</td>\n",
       "      <td>0.837382</td>\n",
       "      <td>0.742351</td>\n",
       "      <td>1.000000</td>\n",
       "      <td>0.829016</td>\n",
       "      <td>0.781486</td>\n",
       "    </tr>\n",
       "    <tr>\n",
       "      <th>LTC/USD</th>\n",
       "      <td>0.842014</td>\n",
       "      <td>0.830682</td>\n",
       "      <td>0.709507</td>\n",
       "      <td>0.829016</td>\n",
       "      <td>1.000000</td>\n",
       "      <td>0.780631</td>\n",
       "    </tr>\n",
       "    <tr>\n",
       "      <th>DOGE/USD</th>\n",
       "      <td>0.777542</td>\n",
       "      <td>0.768674</td>\n",
       "      <td>0.689566</td>\n",
       "      <td>0.781486</td>\n",
       "      <td>0.780631</td>\n",
       "      <td>1.000000</td>\n",
       "    </tr>\n",
       "  </tbody>\n",
       "</table>\n",
       "</div>"
      ],
      "text/plain": [
       "           BTC/USD   ETH/USD   SOL/USD   BNB/USD   LTC/USD  DOGE/USD\n",
       "BTC/USD   1.000000  0.865205  0.721419  0.830740  0.842014  0.777542\n",
       "ETH/USD   0.865205  1.000000  0.733600  0.837382  0.830682  0.768674\n",
       "SOL/USD   0.721419  0.733600  1.000000  0.742351  0.709507  0.689566\n",
       "BNB/USD   0.830740  0.837382  0.742351  1.000000  0.829016  0.781486\n",
       "LTC/USD   0.842014  0.830682  0.709507  0.829016  1.000000  0.780631\n",
       "DOGE/USD  0.777542  0.768674  0.689566  0.781486  0.780631  1.000000"
      ]
     },
     "execution_count": 38,
     "metadata": {},
     "output_type": "execute_result"
    }
   ],
   "source": [
    "log_rets_portfolio_df.corr(method='pearson')"
   ]
  },
  {
   "cell_type": "markdown",
   "id": "5eede358",
   "metadata": {},
   "source": [
    "Let's see what happens if we are not focused on the problem we are treating."
   ]
  },
  {
   "cell_type": "code",
   "execution_count": 39,
   "id": "754da149",
   "metadata": {},
   "outputs": [
    {
     "name": "stderr",
     "output_type": "stream",
     "text": [
      "/Library/Frameworks/Python.framework/Versions/3.8/lib/python3.8/site-packages/numpy/lib/function_base.py:2559: RuntimeWarning: invalid value encountered in true_divide\n",
      "  c /= stddev[:, None]\n",
      "/Library/Frameworks/Python.framework/Versions/3.8/lib/python3.8/site-packages/numpy/lib/function_base.py:2560: RuntimeWarning: invalid value encountered in true_divide\n",
      "  c /= stddev[None, :]\n"
     ]
    },
    {
     "data": {
      "text/html": [
       "<div>\n",
       "<style scoped>\n",
       "    .dataframe tbody tr th:only-of-type {\n",
       "        vertical-align: middle;\n",
       "    }\n",
       "\n",
       "    .dataframe tbody tr th {\n",
       "        vertical-align: top;\n",
       "    }\n",
       "\n",
       "    .dataframe thead th {\n",
       "        text-align: right;\n",
       "    }\n",
       "</style>\n",
       "<table border=\"1\" class=\"dataframe\">\n",
       "  <thead>\n",
       "    <tr style=\"text-align: right;\">\n",
       "      <th></th>\n",
       "      <th>0</th>\n",
       "      <th>1</th>\n",
       "      <th>2</th>\n",
       "      <th>3</th>\n",
       "      <th>4</th>\n",
       "      <th>5</th>\n",
       "      <th>6</th>\n",
       "      <th>7</th>\n",
       "      <th>8</th>\n",
       "      <th>9</th>\n",
       "      <th>...</th>\n",
       "      <th>2581</th>\n",
       "      <th>2582</th>\n",
       "      <th>2583</th>\n",
       "      <th>2584</th>\n",
       "      <th>2585</th>\n",
       "      <th>2586</th>\n",
       "      <th>2587</th>\n",
       "      <th>2588</th>\n",
       "      <th>2589</th>\n",
       "      <th>2590</th>\n",
       "    </tr>\n",
       "  </thead>\n",
       "  <tbody>\n",
       "    <tr>\n",
       "      <th>0</th>\n",
       "      <td>1.000000</td>\n",
       "      <td>0.667053</td>\n",
       "      <td>-0.633666</td>\n",
       "      <td>-0.009913</td>\n",
       "      <td>-0.204470</td>\n",
       "      <td>-0.359303</td>\n",
       "      <td>-0.306815</td>\n",
       "      <td>-0.413231</td>\n",
       "      <td>0.411732</td>\n",
       "      <td>0.763307</td>\n",
       "      <td>...</td>\n",
       "      <td>0.279131</td>\n",
       "      <td>0.722880</td>\n",
       "      <td>-0.926326</td>\n",
       "      <td>-0.572738</td>\n",
       "      <td>0.372874</td>\n",
       "      <td>0.267820</td>\n",
       "      <td>0.480377</td>\n",
       "      <td>0.473100</td>\n",
       "      <td>-0.392992</td>\n",
       "      <td>-0.735893</td>\n",
       "    </tr>\n",
       "    <tr>\n",
       "      <th>1</th>\n",
       "      <td>0.667053</td>\n",
       "      <td>1.000000</td>\n",
       "      <td>-0.764653</td>\n",
       "      <td>-0.654639</td>\n",
       "      <td>-0.405535</td>\n",
       "      <td>-0.268556</td>\n",
       "      <td>-0.585957</td>\n",
       "      <td>0.072263</td>\n",
       "      <td>0.685970</td>\n",
       "      <td>0.929805</td>\n",
       "      <td>...</td>\n",
       "      <td>0.453862</td>\n",
       "      <td>0.292986</td>\n",
       "      <td>-0.807128</td>\n",
       "      <td>-0.854784</td>\n",
       "      <td>0.802747</td>\n",
       "      <td>0.132115</td>\n",
       "      <td>0.352095</td>\n",
       "      <td>0.313518</td>\n",
       "      <td>-0.430166</td>\n",
       "      <td>-0.932687</td>\n",
       "    </tr>\n",
       "    <tr>\n",
       "      <th>2</th>\n",
       "      <td>-0.633666</td>\n",
       "      <td>-0.764653</td>\n",
       "      <td>1.000000</td>\n",
       "      <td>0.271550</td>\n",
       "      <td>0.786271</td>\n",
       "      <td>0.401010</td>\n",
       "      <td>0.369655</td>\n",
       "      <td>-0.151212</td>\n",
       "      <td>-0.631485</td>\n",
       "      <td>-0.627250</td>\n",
       "      <td>...</td>\n",
       "      <td>-0.682695</td>\n",
       "      <td>-0.181994</td>\n",
       "      <td>0.849189</td>\n",
       "      <td>0.668722</td>\n",
       "      <td>-0.818450</td>\n",
       "      <td>-0.027933</td>\n",
       "      <td>-0.108915</td>\n",
       "      <td>0.024023</td>\n",
       "      <td>0.405907</td>\n",
       "      <td>0.726445</td>\n",
       "    </tr>\n",
       "    <tr>\n",
       "      <th>3</th>\n",
       "      <td>-0.009913</td>\n",
       "      <td>-0.654639</td>\n",
       "      <td>0.271550</td>\n",
       "      <td>1.000000</td>\n",
       "      <td>0.262403</td>\n",
       "      <td>0.074646</td>\n",
       "      <td>0.721538</td>\n",
       "      <td>-0.182528</td>\n",
       "      <td>-0.726596</td>\n",
       "      <td>-0.627934</td>\n",
       "      <td>...</td>\n",
       "      <td>-0.039896</td>\n",
       "      <td>-0.006772</td>\n",
       "      <td>0.230053</td>\n",
       "      <td>0.488724</td>\n",
       "      <td>-0.403860</td>\n",
       "      <td>0.396604</td>\n",
       "      <td>0.116897</td>\n",
       "      <td>-0.395872</td>\n",
       "      <td>0.031577</td>\n",
       "      <td>0.666811</td>\n",
       "    </tr>\n",
       "    <tr>\n",
       "      <th>4</th>\n",
       "      <td>-0.204470</td>\n",
       "      <td>-0.405535</td>\n",
       "      <td>0.786271</td>\n",
       "      <td>0.262403</td>\n",
       "      <td>1.000000</td>\n",
       "      <td>0.663099</td>\n",
       "      <td>0.113307</td>\n",
       "      <td>-0.480421</td>\n",
       "      <td>-0.490050</td>\n",
       "      <td>-0.323358</td>\n",
       "      <td>...</td>\n",
       "      <td>-0.300483</td>\n",
       "      <td>0.218442</td>\n",
       "      <td>0.458051</td>\n",
       "      <td>0.142015</td>\n",
       "      <td>-0.497607</td>\n",
       "      <td>0.196031</td>\n",
       "      <td>0.068343</td>\n",
       "      <td>0.266610</td>\n",
       "      <td>0.446287</td>\n",
       "      <td>0.398978</td>\n",
       "    </tr>\n",
       "    <tr>\n",
       "      <th>...</th>\n",
       "      <td>...</td>\n",
       "      <td>...</td>\n",
       "      <td>...</td>\n",
       "      <td>...</td>\n",
       "      <td>...</td>\n",
       "      <td>...</td>\n",
       "      <td>...</td>\n",
       "      <td>...</td>\n",
       "      <td>...</td>\n",
       "      <td>...</td>\n",
       "      <td>...</td>\n",
       "      <td>...</td>\n",
       "      <td>...</td>\n",
       "      <td>...</td>\n",
       "      <td>...</td>\n",
       "      <td>...</td>\n",
       "      <td>...</td>\n",
       "      <td>...</td>\n",
       "      <td>...</td>\n",
       "      <td>...</td>\n",
       "      <td>...</td>\n",
       "    </tr>\n",
       "    <tr>\n",
       "      <th>2586</th>\n",
       "      <td>0.267820</td>\n",
       "      <td>0.132115</td>\n",
       "      <td>-0.027933</td>\n",
       "      <td>0.396604</td>\n",
       "      <td>0.196031</td>\n",
       "      <td>-0.201483</td>\n",
       "      <td>0.635621</td>\n",
       "      <td>0.333553</td>\n",
       "      <td>-0.619370</td>\n",
       "      <td>0.086894</td>\n",
       "      <td>...</td>\n",
       "      <td>0.030952</td>\n",
       "      <td>-0.239017</td>\n",
       "      <td>-0.054161</td>\n",
       "      <td>-0.045704</td>\n",
       "      <td>0.244716</td>\n",
       "      <td>1.000000</td>\n",
       "      <td>0.873513</td>\n",
       "      <td>-0.450797</td>\n",
       "      <td>-0.678203</td>\n",
       "      <td>0.141344</td>\n",
       "    </tr>\n",
       "    <tr>\n",
       "      <th>2587</th>\n",
       "      <td>0.480377</td>\n",
       "      <td>0.352095</td>\n",
       "      <td>-0.108915</td>\n",
       "      <td>0.116897</td>\n",
       "      <td>0.068343</td>\n",
       "      <td>-0.514390</td>\n",
       "      <td>0.436851</td>\n",
       "      <td>0.272755</td>\n",
       "      <td>-0.355415</td>\n",
       "      <td>0.443034</td>\n",
       "      <td>...</td>\n",
       "      <td>-0.223422</td>\n",
       "      <td>-0.049471</td>\n",
       "      <td>-0.254865</td>\n",
       "      <td>-0.065370</td>\n",
       "      <td>0.178274</td>\n",
       "      <td>0.873513</td>\n",
       "      <td>1.000000</td>\n",
       "      <td>-0.124350</td>\n",
       "      <td>-0.847161</td>\n",
       "      <td>-0.167210</td>\n",
       "    </tr>\n",
       "    <tr>\n",
       "      <th>2588</th>\n",
       "      <td>0.473100</td>\n",
       "      <td>0.313518</td>\n",
       "      <td>0.024023</td>\n",
       "      <td>-0.395872</td>\n",
       "      <td>0.266610</td>\n",
       "      <td>0.110832</td>\n",
       "      <td>-0.734859</td>\n",
       "      <td>-0.780388</td>\n",
       "      <td>0.594383</td>\n",
       "      <td>0.534081</td>\n",
       "      <td>...</td>\n",
       "      <td>-0.182900</td>\n",
       "      <td>0.859365</td>\n",
       "      <td>-0.420460</td>\n",
       "      <td>-0.326146</td>\n",
       "      <td>-0.211430</td>\n",
       "      <td>-0.450797</td>\n",
       "      <td>-0.124350</td>\n",
       "      <td>1.000000</td>\n",
       "      <td>0.338331</td>\n",
       "      <td>-0.584453</td>\n",
       "    </tr>\n",
       "    <tr>\n",
       "      <th>2589</th>\n",
       "      <td>-0.392992</td>\n",
       "      <td>-0.430166</td>\n",
       "      <td>0.405907</td>\n",
       "      <td>0.031577</td>\n",
       "      <td>0.446287</td>\n",
       "      <td>0.819475</td>\n",
       "      <td>-0.421910</td>\n",
       "      <td>-0.599999</td>\n",
       "      <td>0.151287</td>\n",
       "      <td>-0.469489</td>\n",
       "      <td>...</td>\n",
       "      <td>0.139521</td>\n",
       "      <td>0.295704</td>\n",
       "      <td>0.321457</td>\n",
       "      <td>0.010197</td>\n",
       "      <td>-0.348070</td>\n",
       "      <td>-0.678203</td>\n",
       "      <td>-0.847161</td>\n",
       "      <td>0.338331</td>\n",
       "      <td>1.000000</td>\n",
       "      <td>0.243482</td>\n",
       "    </tr>\n",
       "    <tr>\n",
       "      <th>2590</th>\n",
       "      <td>-0.735893</td>\n",
       "      <td>-0.932687</td>\n",
       "      <td>0.726445</td>\n",
       "      <td>0.666811</td>\n",
       "      <td>0.398978</td>\n",
       "      <td>0.270815</td>\n",
       "      <td>0.758704</td>\n",
       "      <td>0.194932</td>\n",
       "      <td>-0.852338</td>\n",
       "      <td>-0.949985</td>\n",
       "      <td>...</td>\n",
       "      <td>-0.349104</td>\n",
       "      <td>-0.543266</td>\n",
       "      <td>0.872036</td>\n",
       "      <td>0.795521</td>\n",
       "      <td>-0.605299</td>\n",
       "      <td>0.141344</td>\n",
       "      <td>-0.167210</td>\n",
       "      <td>-0.584453</td>\n",
       "      <td>0.243482</td>\n",
       "      <td>1.000000</td>\n",
       "    </tr>\n",
       "  </tbody>\n",
       "</table>\n",
       "<p>2591 rows × 2591 columns</p>\n",
       "</div>"
      ],
      "text/plain": [
       "          0         1         2         3         4         5         6     \\\n",
       "0     1.000000  0.667053 -0.633666 -0.009913 -0.204470 -0.359303 -0.306815   \n",
       "1     0.667053  1.000000 -0.764653 -0.654639 -0.405535 -0.268556 -0.585957   \n",
       "2    -0.633666 -0.764653  1.000000  0.271550  0.786271  0.401010  0.369655   \n",
       "3    -0.009913 -0.654639  0.271550  1.000000  0.262403  0.074646  0.721538   \n",
       "4    -0.204470 -0.405535  0.786271  0.262403  1.000000  0.663099  0.113307   \n",
       "...        ...       ...       ...       ...       ...       ...       ...   \n",
       "2586  0.267820  0.132115 -0.027933  0.396604  0.196031 -0.201483  0.635621   \n",
       "2587  0.480377  0.352095 -0.108915  0.116897  0.068343 -0.514390  0.436851   \n",
       "2588  0.473100  0.313518  0.024023 -0.395872  0.266610  0.110832 -0.734859   \n",
       "2589 -0.392992 -0.430166  0.405907  0.031577  0.446287  0.819475 -0.421910   \n",
       "2590 -0.735893 -0.932687  0.726445  0.666811  0.398978  0.270815  0.758704   \n",
       "\n",
       "          7         8         9     ...      2581      2582      2583  \\\n",
       "0    -0.413231  0.411732  0.763307  ...  0.279131  0.722880 -0.926326   \n",
       "1     0.072263  0.685970  0.929805  ...  0.453862  0.292986 -0.807128   \n",
       "2    -0.151212 -0.631485 -0.627250  ... -0.682695 -0.181994  0.849189   \n",
       "3    -0.182528 -0.726596 -0.627934  ... -0.039896 -0.006772  0.230053   \n",
       "4    -0.480421 -0.490050 -0.323358  ... -0.300483  0.218442  0.458051   \n",
       "...        ...       ...       ...  ...       ...       ...       ...   \n",
       "2586  0.333553 -0.619370  0.086894  ...  0.030952 -0.239017 -0.054161   \n",
       "2587  0.272755 -0.355415  0.443034  ... -0.223422 -0.049471 -0.254865   \n",
       "2588 -0.780388  0.594383  0.534081  ... -0.182900  0.859365 -0.420460   \n",
       "2589 -0.599999  0.151287 -0.469489  ...  0.139521  0.295704  0.321457   \n",
       "2590  0.194932 -0.852338 -0.949985  ... -0.349104 -0.543266  0.872036   \n",
       "\n",
       "          2584      2585      2586      2587      2588      2589      2590  \n",
       "0    -0.572738  0.372874  0.267820  0.480377  0.473100 -0.392992 -0.735893  \n",
       "1    -0.854784  0.802747  0.132115  0.352095  0.313518 -0.430166 -0.932687  \n",
       "2     0.668722 -0.818450 -0.027933 -0.108915  0.024023  0.405907  0.726445  \n",
       "3     0.488724 -0.403860  0.396604  0.116897 -0.395872  0.031577  0.666811  \n",
       "4     0.142015 -0.497607  0.196031  0.068343  0.266610  0.446287  0.398978  \n",
       "...        ...       ...       ...       ...       ...       ...       ...  \n",
       "2586 -0.045704  0.244716  1.000000  0.873513 -0.450797 -0.678203  0.141344  \n",
       "2587 -0.065370  0.178274  0.873513  1.000000 -0.124350 -0.847161 -0.167210  \n",
       "2588 -0.326146 -0.211430 -0.450797 -0.124350  1.000000  0.338331 -0.584453  \n",
       "2589  0.010197 -0.348070 -0.678203 -0.847161  0.338331  1.000000  0.243482  \n",
       "2590  0.795521 -0.605299  0.141344 -0.167210 -0.584453  0.243482  1.000000  \n",
       "\n",
       "[2591 rows x 2591 columns]"
      ]
     },
     "execution_count": 39,
     "metadata": {},
     "output_type": "execute_result"
    }
   ],
   "source": [
    "pd.DataFrame(np.corrcoef(log_rets_portfolio_df))"
   ]
  },
  {
   "cell_type": "markdown",
   "id": "a5941c64",
   "metadata": {},
   "source": [
    "Why this happens? You need to transpose log_rets_portfolio_df variable if you want to pass it as 2d array to the Numpy function to compute the correlation. But why? Let's say x is the variable we are passing to the np.corrcoef(x) function. Each row of x represents a variable, and each column a single observation of all those variables.\n",
    "\n",
    "Let's see the solution to this problem."
   ]
  },
  {
   "cell_type": "code",
   "execution_count": 40,
   "id": "f4e2d3a3",
   "metadata": {},
   "outputs": [
    {
     "data": {
      "text/html": [
       "<div>\n",
       "<style scoped>\n",
       "    .dataframe tbody tr th:only-of-type {\n",
       "        vertical-align: middle;\n",
       "    }\n",
       "\n",
       "    .dataframe tbody tr th {\n",
       "        vertical-align: top;\n",
       "    }\n",
       "\n",
       "    .dataframe thead th {\n",
       "        text-align: right;\n",
       "    }\n",
       "</style>\n",
       "<table border=\"1\" class=\"dataframe\">\n",
       "  <thead>\n",
       "    <tr style=\"text-align: right;\">\n",
       "      <th></th>\n",
       "      <th>BTC/USD</th>\n",
       "      <th>ETH/USD</th>\n",
       "      <th>SOL/USD</th>\n",
       "      <th>BNB/USD</th>\n",
       "      <th>LTC/USD</th>\n",
       "      <th>DOGE/USD</th>\n",
       "    </tr>\n",
       "  </thead>\n",
       "  <tbody>\n",
       "    <tr>\n",
       "      <th>BTC/USD</th>\n",
       "      <td>1.000000</td>\n",
       "      <td>0.865205</td>\n",
       "      <td>0.721419</td>\n",
       "      <td>0.830740</td>\n",
       "      <td>0.842014</td>\n",
       "      <td>0.777542</td>\n",
       "    </tr>\n",
       "    <tr>\n",
       "      <th>ETH/USD</th>\n",
       "      <td>0.865205</td>\n",
       "      <td>1.000000</td>\n",
       "      <td>0.733600</td>\n",
       "      <td>0.837382</td>\n",
       "      <td>0.830682</td>\n",
       "      <td>0.768674</td>\n",
       "    </tr>\n",
       "    <tr>\n",
       "      <th>SOL/USD</th>\n",
       "      <td>0.721419</td>\n",
       "      <td>0.733600</td>\n",
       "      <td>1.000000</td>\n",
       "      <td>0.742351</td>\n",
       "      <td>0.709507</td>\n",
       "      <td>0.689566</td>\n",
       "    </tr>\n",
       "    <tr>\n",
       "      <th>BNB/USD</th>\n",
       "      <td>0.830740</td>\n",
       "      <td>0.837382</td>\n",
       "      <td>0.742351</td>\n",
       "      <td>1.000000</td>\n",
       "      <td>0.829016</td>\n",
       "      <td>0.781486</td>\n",
       "    </tr>\n",
       "    <tr>\n",
       "      <th>LTC/USD</th>\n",
       "      <td>0.842014</td>\n",
       "      <td>0.830682</td>\n",
       "      <td>0.709507</td>\n",
       "      <td>0.829016</td>\n",
       "      <td>1.000000</td>\n",
       "      <td>0.780631</td>\n",
       "    </tr>\n",
       "    <tr>\n",
       "      <th>DOGE/USD</th>\n",
       "      <td>0.777542</td>\n",
       "      <td>0.768674</td>\n",
       "      <td>0.689566</td>\n",
       "      <td>0.781486</td>\n",
       "      <td>0.780631</td>\n",
       "      <td>1.000000</td>\n",
       "    </tr>\n",
       "  </tbody>\n",
       "</table>\n",
       "</div>"
      ],
      "text/plain": [
       "           BTC/USD   ETH/USD   SOL/USD   BNB/USD   LTC/USD  DOGE/USD\n",
       "BTC/USD   1.000000  0.865205  0.721419  0.830740  0.842014  0.777542\n",
       "ETH/USD   0.865205  1.000000  0.733600  0.837382  0.830682  0.768674\n",
       "SOL/USD   0.721419  0.733600  1.000000  0.742351  0.709507  0.689566\n",
       "BNB/USD   0.830740  0.837382  0.742351  1.000000  0.829016  0.781486\n",
       "LTC/USD   0.842014  0.830682  0.709507  0.829016  1.000000  0.780631\n",
       "DOGE/USD  0.777542  0.768674  0.689566  0.781486  0.780631  1.000000"
      ]
     },
     "execution_count": 40,
     "metadata": {},
     "output_type": "execute_result"
    }
   ],
   "source": [
    "pd.DataFrame(np.corrcoef(log_rets_portfolio_df.T), columns=log_rets_portfolio_df.columns, index=log_rets_portfolio_df.columns)"
   ]
  },
  {
   "cell_type": "markdown",
   "id": "37ac8a78",
   "metadata": {},
   "source": [
    "SciPy also has many statistics routines contained in scipy.stats. You can use the following methods to calculate the three correlation coefficients you saw earlier. It also gives us the possibility to look at the pval.\n",
    "\n",
    "Randomness is probably one of the most powerful phenomena that we have at hand when dealing with Statistics. It may not be so apparent, but under the right scope, it can help us uncover hidden patterns in data. Traditionally speaking though, we rely on analytical solutions to do Hypothesis Testing. Think of the t-test to compare the means of two distributions or the Pearson correlation to measure a linear dependency between two variables. The significance of these statistics always rely on a p value. "
   ]
  },
  {
   "cell_type": "code",
   "execution_count": 41,
   "id": "969ad849",
   "metadata": {},
   "outputs": [
    {
     "data": {
      "text/html": [
       "<div>\n",
       "<style scoped>\n",
       "    .dataframe tbody tr th:only-of-type {\n",
       "        vertical-align: middle;\n",
       "    }\n",
       "\n",
       "    .dataframe tbody tr th {\n",
       "        vertical-align: top;\n",
       "    }\n",
       "\n",
       "    .dataframe thead th {\n",
       "        text-align: right;\n",
       "    }\n",
       "</style>\n",
       "<table border=\"1\" class=\"dataframe\">\n",
       "  <thead>\n",
       "    <tr style=\"text-align: right;\">\n",
       "      <th></th>\n",
       "      <th>BTC/USD</th>\n",
       "      <th>ETH/USD</th>\n",
       "      <th>SOL/USD</th>\n",
       "      <th>BNB/USD</th>\n",
       "      <th>LTC/USD</th>\n",
       "      <th>DOGE/USD</th>\n",
       "    </tr>\n",
       "  </thead>\n",
       "  <tbody>\n",
       "    <tr>\n",
       "      <th>1</th>\n",
       "      <td>0.001400</td>\n",
       "      <td>-0.000074</td>\n",
       "      <td>0.000987</td>\n",
       "      <td>0.000780</td>\n",
       "      <td>0.001859</td>\n",
       "      <td>-0.001650</td>\n",
       "    </tr>\n",
       "    <tr>\n",
       "      <th>2</th>\n",
       "      <td>-0.003138</td>\n",
       "      <td>-0.005024</td>\n",
       "      <td>-0.005698</td>\n",
       "      <td>-0.004940</td>\n",
       "      <td>-0.005557</td>\n",
       "      <td>-0.007323</td>\n",
       "    </tr>\n",
       "    <tr>\n",
       "      <th>3</th>\n",
       "      <td>0.001955</td>\n",
       "      <td>0.002057</td>\n",
       "      <td>0.003868</td>\n",
       "      <td>0.003032</td>\n",
       "      <td>0.002084</td>\n",
       "      <td>0.004378</td>\n",
       "    </tr>\n",
       "    <tr>\n",
       "      <th>4</th>\n",
       "      <td>0.001479</td>\n",
       "      <td>0.001682</td>\n",
       "      <td>0.002251</td>\n",
       "      <td>0.001427</td>\n",
       "      <td>0.002885</td>\n",
       "      <td>0.002422</td>\n",
       "    </tr>\n",
       "    <tr>\n",
       "      <th>5</th>\n",
       "      <td>0.000059</td>\n",
       "      <td>-0.000321</td>\n",
       "      <td>0.001379</td>\n",
       "      <td>-0.000077</td>\n",
       "      <td>-0.000217</td>\n",
       "      <td>0.000630</td>\n",
       "    </tr>\n",
       "    <tr>\n",
       "      <th>...</th>\n",
       "      <td>...</td>\n",
       "      <td>...</td>\n",
       "      <td>...</td>\n",
       "      <td>...</td>\n",
       "      <td>...</td>\n",
       "      <td>...</td>\n",
       "    </tr>\n",
       "    <tr>\n",
       "      <th>2587</th>\n",
       "      <td>0.001608</td>\n",
       "      <td>0.000287</td>\n",
       "      <td>0.000964</td>\n",
       "      <td>0.000491</td>\n",
       "      <td>0.001357</td>\n",
       "      <td>0.001198</td>\n",
       "    </tr>\n",
       "    <tr>\n",
       "      <th>2588</th>\n",
       "      <td>0.001668</td>\n",
       "      <td>-0.000392</td>\n",
       "      <td>0.000651</td>\n",
       "      <td>0.000755</td>\n",
       "      <td>0.001190</td>\n",
       "      <td>0.000730</td>\n",
       "    </tr>\n",
       "    <tr>\n",
       "      <th>2589</th>\n",
       "      <td>-0.001985</td>\n",
       "      <td>-0.001856</td>\n",
       "      <td>-0.000750</td>\n",
       "      <td>-0.000828</td>\n",
       "      <td>-0.002149</td>\n",
       "      <td>-0.002850</td>\n",
       "    </tr>\n",
       "    <tr>\n",
       "      <th>2590</th>\n",
       "      <td>-0.000338</td>\n",
       "      <td>0.001203</td>\n",
       "      <td>0.001260</td>\n",
       "      <td>0.000294</td>\n",
       "      <td>-0.000033</td>\n",
       "      <td>0.000517</td>\n",
       "    </tr>\n",
       "    <tr>\n",
       "      <th>2591</th>\n",
       "      <td>-0.000169</td>\n",
       "      <td>0.000418</td>\n",
       "      <td>0.000721</td>\n",
       "      <td>0.000105</td>\n",
       "      <td>0.000794</td>\n",
       "      <td>0.002150</td>\n",
       "    </tr>\n",
       "  </tbody>\n",
       "</table>\n",
       "<p>2591 rows × 6 columns</p>\n",
       "</div>"
      ],
      "text/plain": [
       "       BTC/USD   ETH/USD   SOL/USD   BNB/USD   LTC/USD  DOGE/USD\n",
       "1     0.001400 -0.000074  0.000987  0.000780  0.001859 -0.001650\n",
       "2    -0.003138 -0.005024 -0.005698 -0.004940 -0.005557 -0.007323\n",
       "3     0.001955  0.002057  0.003868  0.003032  0.002084  0.004378\n",
       "4     0.001479  0.001682  0.002251  0.001427  0.002885  0.002422\n",
       "5     0.000059 -0.000321  0.001379 -0.000077 -0.000217  0.000630\n",
       "...        ...       ...       ...       ...       ...       ...\n",
       "2587  0.001608  0.000287  0.000964  0.000491  0.001357  0.001198\n",
       "2588  0.001668 -0.000392  0.000651  0.000755  0.001190  0.000730\n",
       "2589 -0.001985 -0.001856 -0.000750 -0.000828 -0.002149 -0.002850\n",
       "2590 -0.000338  0.001203  0.001260  0.000294 -0.000033  0.000517\n",
       "2591 -0.000169  0.000418  0.000721  0.000105  0.000794  0.002150\n",
       "\n",
       "[2591 rows x 6 columns]"
      ]
     },
     "execution_count": 41,
     "metadata": {},
     "output_type": "execute_result"
    }
   ],
   "source": [
    "log_rets_portfolio_df"
   ]
  },
  {
   "cell_type": "code",
   "execution_count": 42,
   "id": "98c18856",
   "metadata": {},
   "outputs": [],
   "source": [
    "corr, pval = stats.pearsonr(log_rets_portfolio_df['BTC/USD'], log_rets_portfolio_df['SOL/USD'])"
   ]
  },
  {
   "cell_type": "code",
   "execution_count": 43,
   "id": "0aab6eff",
   "metadata": {},
   "outputs": [
    {
     "name": "stdout",
     "output_type": "stream",
     "text": [
      "0.7214188665844052\n"
     ]
    }
   ],
   "source": [
    "print(corr)"
   ]
  },
  {
   "cell_type": "code",
   "execution_count": 44,
   "id": "b379c037",
   "metadata": {},
   "outputs": [
    {
     "name": "stdout",
     "output_type": "stream",
     "text": [
      "0.0\n"
     ]
    }
   ],
   "source": [
    "print(pval)"
   ]
  },
  {
   "cell_type": "markdown",
   "id": "9570574b",
   "metadata": {},
   "source": [
    "If your p-value is close to 0, the observed correlation is unlikely to be due to chance and there is a very high probability that your null hypothesis is wrong. In this case you must accept the alternative (H1) hypothesis that there is a correlation between your data sets.\n",
    "\n",
    "Confidence in a relationship is formally determined not just by the correlation coefficient but also by the number of pairs in your data. If there are very few pairs then the coefficient needs to be very close to 1 or –1 for it to be deemed ‘statistically significant’, but if there are many pairs then a coefficient closer to 0 can still be considered ‘highly significant’.\n",
    "\n",
    "The standard method that statisticians use to measure the ‘significance’ of their empirical analyses is the p-value. Suppose we are trying to determine if the relationship between height and intelligence of people is significant; then we start with the ‘null hypothesis’ which, in this case is the statement ‘height and intelligence of people are unrelated’. The p-value is a number between 0 and 1 representing the probability that this data would have arisen if the null hypothesis were true. In medical trials the null hypothesis is typically of the form that ‘the use of drug X to treat disease Y is no better than not using any drug’."
   ]
  },
  {
   "cell_type": "markdown",
   "id": "20bb93d5",
   "metadata": {},
   "source": [
    "# Correlation significance (from shuffled null model)"
   ]
  },
  {
   "cell_type": "markdown",
   "id": "d5f15153",
   "metadata": {},
   "source": [
    "Empirical"
   ]
  },
  {
   "cell_type": "code",
   "execution_count": 92,
   "id": "8f47bed6",
   "metadata": {},
   "outputs": [
    {
     "name": "stdout",
     "output_type": "stream",
     "text": [
      "0.0 0.0\n"
     ]
    }
   ],
   "source": [
    "import copy\n",
    "import random\n",
    "\n",
    "#Compute ground truth correlation:\n",
    "[r,pv] = stats.pearsonr(log_rets_portfolio_df['BTC/USD'], log_rets_portfolio_df['SOL/USD'])\n",
    "\n",
    "#Copy one of the features:\n",
    "pS = copy.copy(log_rets_portfolio_df['BTC/USD'])\n",
    "\n",
    "#Initialize variables:\n",
    "pR = []\n",
    "\n",
    "#Choose number of permutations:\n",
    "p=1000\n",
    "\n",
    "#Initialize permutation loop:\n",
    "for i in range(0,p):\n",
    "  #Shuffle one of the features:\n",
    "    random.shuffle(pS.values)\n",
    "    #Computed permuted correlations and store them in pR:\n",
    "    pR.append(stats.pearsonr(pS,log_rets_portfolio_df['SOL/USD'])[0])\n",
    "\n",
    "#Significance:\n",
    "p_val = len(np.where(np.abs(pR)>=np.abs(r))[0])/p\n",
    "\n",
    "print(p_val, pv)"
   ]
  },
  {
   "cell_type": "code",
   "execution_count": 93,
   "id": "2b18d3c2",
   "metadata": {},
   "outputs": [
    {
     "data": {
      "text/plain": [
       "<matplotlib.lines.Line2D at 0x7f8d905a6250>"
      ]
     },
     "execution_count": 93,
     "metadata": {},
     "output_type": "execute_result"
    },
    {
     "data": {
      "image/png": "[encoded data removed]",
      "text/plain": [
       "<Figure size 432x288 with 1 Axes>"
      ]
     },
     "metadata": {
      "needs_background": "light"
     },
     "output_type": "display_data"
    }
   ],
   "source": [
    "plt.hist(pR, bins=50)\n",
    "plt.axvline(r,color='red')"
   ]
  },
  {
   "cell_type": "markdown",
   "id": "7c06baa6",
   "metadata": {},
   "source": [
    "Stat"
   ]
  },
  {
   "cell_type": "code",
   "execution_count": 95,
   "id": "55d7fa44",
   "metadata": {},
   "outputs": [],
   "source": [
    "t_val = (r * np.sqrt(len(log_rets_portfolio_df['BTC/USD']) - 2)) / (np.sqrt(1 - (r*r)))"
   ]
  },
  {
   "cell_type": "code",
   "execution_count": 97,
   "id": "d8a7a002",
   "metadata": {},
   "outputs": [
    {
     "data": {
      "text/plain": [
       "0.0"
      ]
     },
     "execution_count": 97,
     "metadata": {},
     "output_type": "execute_result"
    }
   ],
   "source": [
    "from scipy.stats import t\n",
    "\n",
    "#calculate p-value\n",
    "1 - t.cdf(x=t_val, df=len(log_rets_portfolio_df['BTC/USD']) - 2)"
   ]
  },
  {
   "cell_type": "markdown",
   "id": "b86d9c56",
   "metadata": {},
   "source": [
    "# Granger Causality\n",
    "\n",
    "Why Granger Causality? Spurious regression has to be eliminated while building the model since they are unrelated and have no causal relationship (example of chicken and crude oil).\n",
    "\n",
    "Prof. Clive W.J. Granger, recipient of the 2003 Nobel Prize in Economics developed the concept of causality to improve the performance of forecasting.\n",
    "\n",
    "It is basically an econometric hypothetical test for verifying the usage of one variable in forecasting another in multivariate time series data with a particular lag.\n",
    "\n",
    "A prerequisite for performing the Granger Causality test is that the data need to be stationary i.e it should have a constant mean, constant variance, and no seasonal component.\n",
    "\n",
    "Null Hypothesis (H0) : BTC/USD returns do not granger cause SOL/USD returns.\n",
    "\n",
    "Alternative Hypothesis (HA) : BTC/USD returns granger cause SOL/USD returns."
   ]
  },
  {
   "cell_type": "code",
   "execution_count": 84,
   "id": "51e2c8fc",
   "metadata": {},
   "outputs": [],
   "source": [
    "from statsmodels.tsa.stattools import grangercausalitytests"
   ]
  },
  {
   "cell_type": "code",
   "execution_count": 89,
   "id": "10ff6d84",
   "metadata": {},
   "outputs": [
    {
     "name": "stdout",
     "output_type": "stream",
     "text": [
      "\n",
      "Granger Causality\n",
      "number of lags (no zero) 1\n",
      "ssr based F test:         F=12.8109 , p=0.0004  , df_denom=2587, df_num=1\n",
      "ssr based chi2 test:   chi2=12.8258 , p=0.0003  , df=1\n",
      "likelihood ratio test: chi2=12.7941 , p=0.0003  , df=1\n",
      "parameter F test:         F=12.8109 , p=0.0004  , df_denom=2587, df_num=1\n",
      "\n",
      "Granger Causality\n",
      "number of lags (no zero) 2\n",
      "ssr based F test:         F=7.4197  , p=0.0006  , df_denom=2584, df_num=2\n",
      "ssr based chi2 test:   chi2=14.8680 , p=0.0006  , df=2\n",
      "likelihood ratio test: chi2=14.8255 , p=0.0006  , df=2\n",
      "parameter F test:         F=7.4197  , p=0.0006  , df_denom=2584, df_num=2\n",
      "\n",
      "Granger Causality\n",
      "number of lags (no zero) 3\n",
      "ssr based F test:         F=5.3339  , p=0.0012  , df_denom=2581, df_num=3\n",
      "ssr based chi2 test:   chi2=16.0451 , p=0.0011  , df=3\n",
      "likelihood ratio test: chi2=15.9956 , p=0.0011  , df=3\n",
      "parameter F test:         F=5.3339  , p=0.0012  , df_denom=2581, df_num=3\n",
      "\n",
      "Granger Causality\n",
      "number of lags (no zero) 4\n",
      "ssr based F test:         F=4.3068  , p=0.0018  , df_denom=2578, df_num=4\n",
      "ssr based chi2 test:   chi2=17.2874 , p=0.0017  , df=4\n",
      "likelihood ratio test: chi2=17.2299 , p=0.0017  , df=4\n",
      "parameter F test:         F=4.3068  , p=0.0018  , df_denom=2578, df_num=4\n",
      "\n",
      "Granger Causality\n",
      "number of lags (no zero) 5\n",
      "ssr based F test:         F=3.6067  , p=0.0030  , df_denom=2575, df_num=5\n",
      "ssr based chi2 test:   chi2=18.1105 , p=0.0028  , df=5\n",
      "likelihood ratio test: chi2=18.0474 , p=0.0029  , df=5\n",
      "parameter F test:         F=3.6067  , p=0.0030  , df_denom=2575, df_num=5\n",
      "\n",
      "Granger Causality\n",
      "number of lags (no zero) 6\n",
      "ssr based F test:         F=3.0215  , p=0.0060  , df_denom=2572, df_num=6\n",
      "ssr based chi2 test:   chi2=18.2204 , p=0.0057  , df=6\n",
      "likelihood ratio test: chi2=18.1565 , p=0.0059  , df=6\n",
      "parameter F test:         F=3.0215  , p=0.0060  , df_denom=2572, df_num=6\n",
      "\n",
      "Granger Causality\n",
      "number of lags (no zero) 7\n",
      "ssr based F test:         F=2.5981  , p=0.0114  , df_denom=2569, df_num=7\n",
      "ssr based chi2 test:   chi2=18.2929 , p=0.0107  , df=7\n",
      "likelihood ratio test: chi2=18.2285 , p=0.0110  , df=7\n",
      "parameter F test:         F=2.5981  , p=0.0114  , df_denom=2569, df_num=7\n",
      "\n",
      "Granger Causality\n",
      "number of lags (no zero) 8\n",
      "ssr based F test:         F=2.3298  , p=0.0172  , df_denom=2566, df_num=8\n",
      "ssr based chi2 test:   chi2=18.7617 , p=0.0162  , df=8\n",
      "likelihood ratio test: chi2=18.6939 , p=0.0166  , df=8\n",
      "parameter F test:         F=2.3298  , p=0.0172  , df_denom=2566, df_num=8\n"
     ]
    }
   ],
   "source": [
    "granger_res = grangercausalitytests(log_rets_portfolio_df[['SOL/USD', 'BTC/USD']], maxlag=8)"
   ]
  },
  {
   "cell_type": "markdown",
   "id": "40d8a75c",
   "metadata": {},
   "source": [
    "All test results, dictionary keys are the number of lags. For each lag the values are a tuple, with the first element a dictionary with test statistic, pvalues, degrees of freedom, the second element are the OLS estimation results for the restricted model, the unrestricted model and the restriction (contrast) matrix for the parameter f_test.\n",
    "\n",
    "p-value is very low, Null hypothesis is rejected hence  BTC/USD returns granger cause SOL/USD returns."
   ]
  },
  {
   "cell_type": "markdown",
   "id": "c6cde66a",
   "metadata": {},
   "source": [
    "Repeat the test in the contrary direction."
   ]
  },
  {
   "cell_type": "code",
   "execution_count": 90,
   "id": "d3d69ea4",
   "metadata": {},
   "outputs": [
    {
     "name": "stdout",
     "output_type": "stream",
     "text": [
      "\n",
      "Granger Causality\n",
      "number of lags (no zero) 1\n",
      "ssr based F test:         F=0.0000  , p=0.9957  , df_denom=2587, df_num=1\n",
      "ssr based chi2 test:   chi2=0.0000  , p=0.9957  , df=1\n",
      "likelihood ratio test: chi2=0.0000  , p=0.9957  , df=1\n",
      "parameter F test:         F=0.0000  , p=0.9957  , df_denom=2587, df_num=1\n",
      "\n",
      "Granger Causality\n",
      "number of lags (no zero) 2\n",
      "ssr based F test:         F=1.0457  , p=0.3516  , df_denom=2584, df_num=2\n",
      "ssr based chi2 test:   chi2=2.0954  , p=0.3507  , df=2\n",
      "likelihood ratio test: chi2=2.0946  , p=0.3509  , df=2\n",
      "parameter F test:         F=1.0457  , p=0.3516  , df_denom=2584, df_num=2\n",
      "\n",
      "Granger Causality\n",
      "number of lags (no zero) 3\n",
      "ssr based F test:         F=0.9846  , p=0.3990  , df_denom=2581, df_num=3\n",
      "ssr based chi2 test:   chi2=2.9617  , p=0.3976  , df=3\n",
      "likelihood ratio test: chi2=2.9601  , p=0.3978  , df=3\n",
      "parameter F test:         F=0.9846  , p=0.3990  , df_denom=2581, df_num=3\n",
      "\n",
      "Granger Causality\n",
      "number of lags (no zero) 4\n",
      "ssr based F test:         F=3.0310  , p=0.0166  , df_denom=2578, df_num=4\n",
      "ssr based chi2 test:   chi2=12.1663 , p=0.0162  , df=4\n",
      "likelihood ratio test: chi2=12.1378 , p=0.0164  , df=4\n",
      "parameter F test:         F=3.0310  , p=0.0166  , df_denom=2578, df_num=4\n",
      "\n",
      "Granger Causality\n",
      "number of lags (no zero) 5\n",
      "ssr based F test:         F=2.4316  , p=0.0330  , df_denom=2575, df_num=5\n",
      "ssr based chi2 test:   chi2=12.2099 , p=0.0320  , df=5\n",
      "likelihood ratio test: chi2=12.1812 , p=0.0324  , df=5\n",
      "parameter F test:         F=2.4316  , p=0.0330  , df_denom=2575, df_num=5\n",
      "\n",
      "Granger Causality\n",
      "number of lags (no zero) 6\n",
      "ssr based F test:         F=2.4832  , p=0.0213  , df_denom=2572, df_num=6\n",
      "ssr based chi2 test:   chi2=14.9747 , p=0.0205  , df=6\n",
      "likelihood ratio test: chi2=14.9315 , p=0.0208  , df=6\n",
      "parameter F test:         F=2.4832  , p=0.0213  , df_denom=2572, df_num=6\n",
      "\n",
      "Granger Causality\n",
      "number of lags (no zero) 7\n",
      "ssr based F test:         F=2.3112  , p=0.0238  , df_denom=2569, df_num=7\n",
      "ssr based chi2 test:   chi2=16.2731 , p=0.0227  , df=7\n",
      "likelihood ratio test: chi2=16.2221 , p=0.0232  , df=7\n",
      "parameter F test:         F=2.3112  , p=0.0238  , df_denom=2569, df_num=7\n",
      "\n",
      "Granger Causality\n",
      "number of lags (no zero) 8\n",
      "ssr based F test:         F=2.1324  , p=0.0299  , df_denom=2566, df_num=8\n",
      "ssr based chi2 test:   chi2=17.1723 , p=0.0284  , df=8\n",
      "likelihood ratio test: chi2=17.1155 , p=0.0289  , df=8\n",
      "parameter F test:         F=2.1324  , p=0.0299  , df_denom=2566, df_num=8\n"
     ]
    }
   ],
   "source": [
    "granger_res = grangercausalitytests(log_rets_portfolio_df[['BTC/USD', 'SOL/USD']], maxlag=8)"
   ]
  },
  {
   "cell_type": "markdown",
   "id": "8235cc3a",
   "metadata": {},
   "source": [
    "The p-value is considerably high thus SOL/USD returns do not granger cause BTC/USD returns."
   ]
  },
  {
   "cell_type": "code",
   "execution_count": null,
   "id": "119804cf",
   "metadata": {},
   "outputs": [],
   "source": []
  }
 ],
 "metadata": {
  "kernelspec": {
   "display_name": "Python 3 (ipykernel)",
   "language": "python",
   "name": "python3"
  },
  "language_info": {
   "codemirror_mode": {
    "name": "ipython",
    "version": 3
   },
   "file_extension": ".py",
   "mimetype": "text/x-python",
   "name": "python",
   "nbconvert_exporter": "python",
   "pygments_lexer": "ipython3",
   "version": "3.8.12"
  }
 },
 "nbformat": 4,
 "nbformat_minor": 5
}
