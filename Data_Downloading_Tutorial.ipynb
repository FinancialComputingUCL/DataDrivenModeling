{
 "cells": [
  {
   "cell_type": "code",
   "execution_count": 22,
   "id": "7a20f67e",
   "metadata": {},
   "outputs": [],
   "source": [
    "import random\n",
    "import time\n",
    "import calendar\n",
    "import datetime\n",
    "from datetime import date, timedelta\n",
    "\n",
    "import numpy as np\n",
    "import pandas as pd\n",
    "\n",
    "import ccxt"
   ]
  },
  {
   "cell_type": "code",
   "execution_count": 23,
   "id": "b44e7c98",
   "metadata": {},
   "outputs": [
    {
     "name": "stdout",
     "output_type": "stream",
     "text": [
      "Available time granularities on the chosen digital currency exchange: {'1s': '1s', '1m': '1m', '3m': '3m', '5m': '5m', '15m': '15m', '30m': '30m', '1h': '1h', '2h': '2h', '4h': '4h', '6h': '6h', '8h': '8h', '12h': '12h', '1d': '1d', '3d': '3d', '1w': '1w', '1M': '1M'}\n"
     ]
    }
   ],
   "source": [
    "exchange = ccxt.binance() # Exchange to be used.  \n",
    "print(f'Available time granularities on the chosen digital currency exchange: {exchange.timeframes}')"
   ]
  },
  {
   "cell_type": "code",
   "execution_count": 24,
   "id": "957731d7",
   "metadata": {},
   "outputs": [
    {
     "name": "stdout",
     "output_type": "stream",
     "text": [
      "Training days: ['2022-01-01', '2022-01-02', '2022-01-03', '2022-01-04', '2022-01-05', '2022-01-06', '2022-01-07', '2022-01-08', '2022-01-09', '2022-01-10', '2022-01-11', '2022-01-12', '2022-01-13', '2022-01-14', '2022-01-15', '2022-01-16', '2022-01-17', '2022-01-18', '2022-01-19', '2022-01-20', '2022-01-21', '2022-01-22', '2022-01-23', '2022-01-24', '2022-01-25', '2022-01-26', '2022-01-27', '2022-01-28', '2022-01-29', '2022-01-30', '2022-01-31', '2022-02-01', '2022-02-02', '2022-02-03', '2022-02-04', '2022-02-05', '2022-02-06', '2022-02-07', '2022-02-08', '2022-02-09', '2022-02-10', '2022-02-11', '2022-02-12', '2022-02-13', '2022-02-14', '2022-02-15', '2022-02-16', '2022-02-17', '2022-02-18', '2022-02-19', '2022-02-20', '2022-02-21', '2022-02-22', '2022-02-23', '2022-02-24', '2022-02-25', '2022-02-26', '2022-02-27', '2022-02-28']\n",
      "Test days: ['2022-03-01', '2022-03-02', '2022-03-03', '2022-03-04', '2022-03-05', '2022-03-06', '2022-03-07', '2022-03-08', '2022-03-09', '2022-03-10', '2022-03-11', '2022-03-12', '2022-03-13', '2022-03-14', '2022-03-15', '2022-03-16', '2022-03-17', '2022-03-18', '2022-03-19', '2022-03-20', '2022-03-21', '2022-03-22', '2022-03-23', '2022-03-24', '2022-03-25', '2022-03-26', '2022-03-27', '2022-03-28', '2022-03-29', '2022-03-30', '2022-03-31']\n"
     ]
    }
   ],
   "source": [
    "sdate_training = date(2022,1,1)   # Start date training data -> included.\n",
    "edate_training = date(2022,3,1)   # End date training data - excluded.\n",
    "\n",
    "sdate_test = date(2022,3,1)   # Start date training date -> included.\n",
    "edate_test = date(2022,4,1)   # End date training date - excluded.\n",
    "\n",
    "trading_symbol = 'SOL/BUSD' # Pair to be downloaded (BE CAREFUL).\n",
    "granularity = '1h' # Data granularity (it changes based on the chosen Exchange). \n",
    "\n",
    "list_dates_training = pd.date_range(sdate_training, edate_training-timedelta(days=1),freq='d').strftime(\"%Y-%m-%d\").tolist() # List of all days in the training set.\n",
    "list_dates_test = pd.date_range(sdate_test, edate_test-timedelta(days=1),freq='d').strftime(\"%Y-%m-%d\").tolist() # List of all days in the test set.\n",
    "\n",
    "print(f'Training days: {list_dates_training}')\n",
    "print(f'Test days: {list_dates_test}')"
   ]
  },
  {
   "cell_type": "code",
   "execution_count": null,
   "id": "63da9a51",
   "metadata": {},
   "outputs": [],
   "source": [
    "df_training = pd.DataFrame({'Time':[], 'Open':[], 'High':[], 'Low':[], 'Close':[], 'Volume':[]}) # Prepare empty training dataset. \n",
    "df_test = pd.DataFrame({'Time':[], 'Open':[], 'High':[], 'Low':[], 'Close':[], 'Volume':[]}) # Prepare empty test dataset.\n",
    "\n",
    "# Download training data.\n",
    "for date in list_dates_training:\n",
    "    since = date # Take the day to be downloaded in a human readable format. \n",
    "    since = time.mktime(datetime.datetime.strptime(since, \"%Y-%m-%d\").timetuple()) * 1000 # Transform the day to be downloaded in a format accepted by the CCXT library. \n",
    "    ohlcv = exchange.fetch_ohlcv(symbol=trading_symbol, timeframe=granularity, since=int(since)) # Fetch OHLCV data from the chosen Exchange. \n",
    "    \n",
    "    df = pd.DataFrame(ohlcv, columns = ['Time', 'Open', 'High', 'Low', 'Close', 'Volume']) # Organise data in a pd.Dataframe format.\n",
    "    df['Time'] = [datetime.datetime.fromtimestamp(float(time)/1000) for time in df['Time']] # Transform the dates in a human readable format. \n",
    "    df = df.iloc[:24, :] # Take only the hours belonging to the 'date' day. \n",
    "    \n",
    "    df_training = pd.concat([df_training, df], ignore_index=True)  # Append the data to the full training dataset. \n",
    "\n",
    "# Download test data.\n",
    "for date in list_dates_test:\n",
    "    since = date # Take the day to be downloaded in a human readable format.\n",
    "    since = time.mktime(datetime.datetime.strptime(since, \"%Y-%m-%d\").timetuple()) * 1000 # Transform the day to be downloaded in a format accepted by the CCXT library.\n",
    "    ohlcv = exchange.fetch_ohlcv(symbol=trading_symbol, timeframe=granularity, since=int(since)) # Fetch OHLCV data from the chosen Exchange.\n",
    "\n",
    "    df = pd.DataFrame(ohlcv, columns = ['Time', 'Open', 'High', 'Low', 'Close', 'Volume']) # Organise data in a pd.Dataframe format.\n",
    "    df['Time'] = [datetime.datetime.fromtimestamp(float(time)/1000) for time in df['Time']] # Transform the dates in a human readable format. \n",
    "    df = df.iloc[:24, :] # Take only the hours belonging to the 'date' day.\n",
    "    \n",
    "    df_test = pd.concat([df_test, df], ignore_index=True) # Append the data to the full test dataset. \n",
    "    \n",
    "df_training.set_index('Time', inplace=True) # Set the 'Time' column as new index for the training dataset. \n",
    "df_test.set_index('Time', inplace=True) # Set the 'Time' column as new index for the test dataset."
   ]
  },
  {
   "cell_type": "code",
   "execution_count": null,
   "id": "614fa39a",
   "metadata": {},
   "outputs": [],
   "source": [
    "df_training.head(5) # Visualize the training dataset."
   ]
  },
  {
   "cell_type": "code",
   "execution_count": null,
   "id": "7a682c8d",
   "metadata": {},
   "outputs": [],
   "source": [
    "df_test.head(5) # Visualize the training dataset."
   ]
  },
  {
   "cell_type": "code",
   "execution_count": null,
   "id": "a2c9ec41",
   "metadata": {},
   "outputs": [],
   "source": [
    "df_training.to_csv('./data/training_data.csv') # Save training data into .csv format.\n",
    "df_test.to_csv('./data/test_data.csv') # Save test data into .csv format."
   ]
  }
 ],
 "metadata": {
  "kernelspec": {
   "display_name": "Python 3 (ipykernel)",
   "language": "python",
   "name": "python3"
  },
  "language_info": {
   "codemirror_mode": {
    "name": "ipython",
    "version": 3
   },
   "file_extension": ".py",
   "mimetype": "text/x-python",
   "name": "python",
   "nbconvert_exporter": "python",
   "pygments_lexer": "ipython3",
   "version": "3.9.13"
  }
 },
 "nbformat": 4,
 "nbformat_minor": 5
}
