{
 "cells": [
  {
   "cell_type": "markdown",
   "id": "a08fe993",
   "metadata": {},
   "source": [
    "Let's start this hands-on tutorial defining what is the programming language and the packages we will use during this course. \n",
    "\n",
    "You need to install Python (if you want to use this programming language for your final project). In order to install packages (or modules) you will use PIP. PIP is a package manager for Python packages. Each package can be installed as follows: _pip install \\<name_of_package\\>_."
   ]
  },
  {
   "cell_type": "code",
   "execution_count": 2,
   "id": "3aeec62b",
   "metadata": {},
   "outputs": [],
   "source": [
    "import pandas as pd\n",
    "import numpy as np\n",
    "from scipy.stats import *\n",
    "\n",
    "import ccxt\n",
    "\n",
    "import matplotlib.pyplot as plt\n",
    "import mplfinance as mpf"
   ]
  },
  {
   "cell_type": "markdown",
   "id": "72ea0f6f",
   "metadata": {},
   "source": [
    "Let's now download the dataset from the Moodle webpage and let's see how to upload the files."
   ]
  },
  {
   "cell_type": "code",
   "execution_count": 3,
   "id": "bbccf5a0",
   "metadata": {},
   "outputs": [],
   "source": [
    "pair = 'BTC/USD'\n",
    "pair = pair.replace('/', '-')"
   ]
  },
  {
   "cell_type": "code",
   "execution_count": 4,
   "id": "19945b5e",
   "metadata": {},
   "outputs": [],
   "source": [
    "df = pd.read_csv(f'../data_download/data/data_{pair}.csv')"
   ]
  },
  {
   "cell_type": "markdown",
   "id": "4d5fdead",
   "metadata": {},
   "source": [
    "Let's start by exploring how this dastaset is formed. Let's print the first and last five rows of the dataset. The number of rows to be printed is a variable value which can be set by the user."
   ]
  },
  {
   "cell_type": "code",
   "execution_count": 5,
   "id": "af5c90ec",
   "metadata": {},
   "outputs": [
    {
     "data": {
      "text/html": [
       "<div>\n",
       "<style scoped>\n",
       "    .dataframe tbody tr th:only-of-type {\n",
       "        vertical-align: middle;\n",
       "    }\n",
       "\n",
       "    .dataframe tbody tr th {\n",
       "        vertical-align: top;\n",
       "    }\n",
       "\n",
       "    .dataframe thead th {\n",
       "        text-align: right;\n",
       "    }\n",
       "</style>\n",
       "<table border=\"1\" class=\"dataframe\">\n",
       "  <thead>\n",
       "    <tr style=\"text-align: right;\">\n",
       "      <th></th>\n",
       "      <th>Time</th>\n",
       "      <th>Open</th>\n",
       "      <th>High</th>\n",
       "      <th>Low</th>\n",
       "      <th>Close</th>\n",
       "      <th>Volume</th>\n",
       "    </tr>\n",
       "  </thead>\n",
       "  <tbody>\n",
       "    <tr>\n",
       "      <th>0</th>\n",
       "      <td>2021-12-25 00:00:00</td>\n",
       "      <td>50796.0</td>\n",
       "      <td>50807.0</td>\n",
       "      <td>50566.0</td>\n",
       "      <td>50670.0</td>\n",
       "      <td>2.293749e+06</td>\n",
       "    </tr>\n",
       "    <tr>\n",
       "      <th>1</th>\n",
       "      <td>2021-12-25 00:05:00</td>\n",
       "      <td>50670.0</td>\n",
       "      <td>50783.0</td>\n",
       "      <td>50669.0</td>\n",
       "      <td>50741.0</td>\n",
       "      <td>2.025913e+06</td>\n",
       "    </tr>\n",
       "    <tr>\n",
       "      <th>2</th>\n",
       "      <td>2021-12-25 00:10:00</td>\n",
       "      <td>50741.0</td>\n",
       "      <td>50741.0</td>\n",
       "      <td>50535.0</td>\n",
       "      <td>50582.0</td>\n",
       "      <td>2.897014e+06</td>\n",
       "    </tr>\n",
       "    <tr>\n",
       "      <th>3</th>\n",
       "      <td>2021-12-25 00:15:00</td>\n",
       "      <td>50582.0</td>\n",
       "      <td>50681.0</td>\n",
       "      <td>50521.0</td>\n",
       "      <td>50681.0</td>\n",
       "      <td>1.785521e+06</td>\n",
       "    </tr>\n",
       "    <tr>\n",
       "      <th>4</th>\n",
       "      <td>2021-12-25 00:20:00</td>\n",
       "      <td>50681.0</td>\n",
       "      <td>50767.0</td>\n",
       "      <td>50652.0</td>\n",
       "      <td>50756.0</td>\n",
       "      <td>1.062458e+06</td>\n",
       "    </tr>\n",
       "  </tbody>\n",
       "</table>\n",
       "</div>"
      ],
      "text/plain": [
       "                  Time     Open     High      Low    Close        Volume\n",
       "0  2021-12-25 00:00:00  50796.0  50807.0  50566.0  50670.0  2.293749e+06\n",
       "1  2021-12-25 00:05:00  50670.0  50783.0  50669.0  50741.0  2.025913e+06\n",
       "2  2021-12-25 00:10:00  50741.0  50741.0  50535.0  50582.0  2.897014e+06\n",
       "3  2021-12-25 00:15:00  50582.0  50681.0  50521.0  50681.0  1.785521e+06\n",
       "4  2021-12-25 00:20:00  50681.0  50767.0  50652.0  50756.0  1.062458e+06"
      ]
     },
     "execution_count": 5,
     "metadata": {},
     "output_type": "execute_result"
    }
   ],
   "source": [
    "df.head(5)"
   ]
  },
  {
   "cell_type": "code",
   "execution_count": 6,
   "id": "9c3754e3",
   "metadata": {},
   "outputs": [
    {
     "data": {
      "text/html": [
       "<div>\n",
       "<style scoped>\n",
       "    .dataframe tbody tr th:only-of-type {\n",
       "        vertical-align: middle;\n",
       "    }\n",
       "\n",
       "    .dataframe tbody tr th {\n",
       "        vertical-align: top;\n",
       "    }\n",
       "\n",
       "    .dataframe thead th {\n",
       "        text-align: right;\n",
       "    }\n",
       "</style>\n",
       "<table border=\"1\" class=\"dataframe\">\n",
       "  <thead>\n",
       "    <tr style=\"text-align: right;\">\n",
       "      <th></th>\n",
       "      <th>Time</th>\n",
       "      <th>Open</th>\n",
       "      <th>High</th>\n",
       "      <th>Low</th>\n",
       "      <th>Close</th>\n",
       "      <th>Volume</th>\n",
       "    </tr>\n",
       "  </thead>\n",
       "  <tbody>\n",
       "    <tr>\n",
       "      <th>2587</th>\n",
       "      <td>2022-01-02 23:35:00</td>\n",
       "      <td>47239.0</td>\n",
       "      <td>47406.0</td>\n",
       "      <td>47213.0</td>\n",
       "      <td>47315.0</td>\n",
       "      <td>1.185534e+06</td>\n",
       "    </tr>\n",
       "    <tr>\n",
       "      <th>2588</th>\n",
       "      <td>2022-01-02 23:40:00</td>\n",
       "      <td>47315.0</td>\n",
       "      <td>47394.0</td>\n",
       "      <td>47315.0</td>\n",
       "      <td>47394.0</td>\n",
       "      <td>3.286963e+05</td>\n",
       "    </tr>\n",
       "    <tr>\n",
       "      <th>2589</th>\n",
       "      <td>2022-01-02 23:45:00</td>\n",
       "      <td>47394.0</td>\n",
       "      <td>47394.0</td>\n",
       "      <td>47299.0</td>\n",
       "      <td>47300.0</td>\n",
       "      <td>4.014382e+05</td>\n",
       "    </tr>\n",
       "    <tr>\n",
       "      <th>2590</th>\n",
       "      <td>2022-01-02 23:50:00</td>\n",
       "      <td>47300.0</td>\n",
       "      <td>47300.0</td>\n",
       "      <td>47248.0</td>\n",
       "      <td>47284.0</td>\n",
       "      <td>1.202602e+06</td>\n",
       "    </tr>\n",
       "    <tr>\n",
       "      <th>2591</th>\n",
       "      <td>2022-01-02 23:55:00</td>\n",
       "      <td>47284.0</td>\n",
       "      <td>47316.0</td>\n",
       "      <td>47252.0</td>\n",
       "      <td>47276.0</td>\n",
       "      <td>6.784927e+05</td>\n",
       "    </tr>\n",
       "  </tbody>\n",
       "</table>\n",
       "</div>"
      ],
      "text/plain": [
       "                     Time     Open     High      Low    Close        Volume\n",
       "2587  2022-01-02 23:35:00  47239.0  47406.0  47213.0  47315.0  1.185534e+06\n",
       "2588  2022-01-02 23:40:00  47315.0  47394.0  47315.0  47394.0  3.286963e+05\n",
       "2589  2022-01-02 23:45:00  47394.0  47394.0  47299.0  47300.0  4.014382e+05\n",
       "2590  2022-01-02 23:50:00  47300.0  47300.0  47248.0  47284.0  1.202602e+06\n",
       "2591  2022-01-02 23:55:00  47284.0  47316.0  47252.0  47276.0  6.784927e+05"
      ]
     },
     "execution_count": 6,
     "metadata": {},
     "output_type": "execute_result"
    }
   ],
   "source": [
    "df.tail(5)"
   ]
  },
  {
   "cell_type": "markdown",
   "id": "f306e1d2",
   "metadata": {},
   "source": [
    "At this point we already know the names of the columns in the dataset. Let's formalize this first step of exploration as follows."
   ]
  },
  {
   "cell_type": "code",
   "execution_count": 7,
   "id": "68f11dd3",
   "metadata": {},
   "outputs": [
    {
     "data": {
      "text/plain": [
       "Index(['Time', 'Open', 'High', 'Low', 'Close', 'Volume'], dtype='object')"
      ]
     },
     "execution_count": 7,
     "metadata": {},
     "output_type": "execute_result"
    }
   ],
   "source": [
    "df.columns"
   ]
  },
  {
   "cell_type": "markdown",
   "id": "e691901c",
   "metadata": {},
   "source": [
    "As you know we will work with time-series. The main ingredient is the time. We need the _time_ column to be in a specific format (the _datetime_ format) which allows us to perform operations over time (grouping, selection...). Let's check the type of the columns in our dataset."
   ]
  },
  {
   "cell_type": "code",
   "execution_count": 8,
   "id": "f811aad8",
   "metadata": {},
   "outputs": [
    {
     "data": {
      "text/plain": [
       "Time       object\n",
       "Open      float64\n",
       "High      float64\n",
       "Low       float64\n",
       "Close     float64\n",
       "Volume    float64\n",
       "dtype: object"
      ]
     },
     "execution_count": 8,
     "metadata": {},
     "output_type": "execute_result"
    }
   ],
   "source": [
    "df.dtypes"
   ]
  },
  {
   "cell_type": "markdown",
   "id": "06997307",
   "metadata": {},
   "source": [
    "The _object_ type does not allows to performe the above mentioned operations over the _time_ column. We need to modify the time of this column."
   ]
  },
  {
   "cell_type": "code",
   "execution_count": 9,
   "id": "796ffad3",
   "metadata": {},
   "outputs": [],
   "source": [
    "df.Time = pd.to_datetime(df.Time)"
   ]
  },
  {
   "cell_type": "markdown",
   "id": "19d58e2b",
   "metadata": {},
   "source": [
    "Let's now set this column as an index column. This step will give us the possibility to perform the above mentioned operations in an easier way."
   ]
  },
  {
   "cell_type": "code",
   "execution_count": 10,
   "id": "79debb82",
   "metadata": {},
   "outputs": [],
   "source": [
    "df.set_index(df.Time, inplace=True)"
   ]
  },
  {
   "cell_type": "markdown",
   "id": "048c5175",
   "metadata": {},
   "source": [
    "We are now ready to perform the first, foundamental exploratory analysis on our dataset. Be careful, this can be considered a mandatory step and it will contain summary informations about the whole dataset."
   ]
  },
  {
   "cell_type": "code",
   "execution_count": 11,
   "id": "c176992b",
   "metadata": {},
   "outputs": [
    {
     "data": {
      "text/html": [
       "<div>\n",
       "<style scoped>\n",
       "    .dataframe tbody tr th:only-of-type {\n",
       "        vertical-align: middle;\n",
       "    }\n",
       "\n",
       "    .dataframe tbody tr th {\n",
       "        vertical-align: top;\n",
       "    }\n",
       "\n",
       "    .dataframe thead th {\n",
       "        text-align: right;\n",
       "    }\n",
       "</style>\n",
       "<table border=\"1\" class=\"dataframe\">\n",
       "  <thead>\n",
       "    <tr style=\"text-align: right;\">\n",
       "      <th></th>\n",
       "      <th>Open</th>\n",
       "      <th>High</th>\n",
       "      <th>Low</th>\n",
       "      <th>Close</th>\n",
       "      <th>Volume</th>\n",
       "    </tr>\n",
       "  </thead>\n",
       "  <tbody>\n",
       "    <tr>\n",
       "      <th>count</th>\n",
       "      <td>2592.000000</td>\n",
       "      <td>2592.000000</td>\n",
       "      <td>2592.000000</td>\n",
       "      <td>2592.000000</td>\n",
       "      <td>2.592000e+03</td>\n",
       "    </tr>\n",
       "    <tr>\n",
       "      <th>mean</th>\n",
       "      <td>48607.901813</td>\n",
       "      <td>48655.971451</td>\n",
       "      <td>48555.786265</td>\n",
       "      <td>48606.484761</td>\n",
       "      <td>1.421996e+06</td>\n",
       "    </tr>\n",
       "    <tr>\n",
       "      <th>std</th>\n",
       "      <td>1659.866985</td>\n",
       "      <td>1655.725433</td>\n",
       "      <td>1663.525372</td>\n",
       "      <td>1659.506498</td>\n",
       "      <td>1.554677e+06</td>\n",
       "    </tr>\n",
       "    <tr>\n",
       "      <th>min</th>\n",
       "      <td>45710.000000</td>\n",
       "      <td>45872.000000</td>\n",
       "      <td>45650.000000</td>\n",
       "      <td>45711.000000</td>\n",
       "      <td>0.000000e+00</td>\n",
       "    </tr>\n",
       "    <tr>\n",
       "      <th>25%</th>\n",
       "      <td>47208.750000</td>\n",
       "      <td>47258.750000</td>\n",
       "      <td>47158.000000</td>\n",
       "      <td>47208.750000</td>\n",
       "      <td>5.757432e+05</td>\n",
       "    </tr>\n",
       "    <tr>\n",
       "      <th>50%</th>\n",
       "      <td>47835.500000</td>\n",
       "      <td>47881.000000</td>\n",
       "      <td>47778.500000</td>\n",
       "      <td>47835.500000</td>\n",
       "      <td>9.718186e+05</td>\n",
       "    </tr>\n",
       "    <tr>\n",
       "      <th>75%</th>\n",
       "      <td>50394.250000</td>\n",
       "      <td>50451.750000</td>\n",
       "      <td>50354.500000</td>\n",
       "      <td>50392.500000</td>\n",
       "      <td>1.737342e+06</td>\n",
       "    </tr>\n",
       "    <tr>\n",
       "      <th>max</th>\n",
       "      <td>51960.000000</td>\n",
       "      <td>52129.000000</td>\n",
       "      <td>51900.000000</td>\n",
       "      <td>51959.000000</td>\n",
       "      <td>2.576473e+07</td>\n",
       "    </tr>\n",
       "  </tbody>\n",
       "</table>\n",
       "</div>"
      ],
      "text/plain": [
       "               Open          High           Low         Close        Volume\n",
       "count   2592.000000   2592.000000   2592.000000   2592.000000  2.592000e+03\n",
       "mean   48607.901813  48655.971451  48555.786265  48606.484761  1.421996e+06\n",
       "std     1659.866985   1655.725433   1663.525372   1659.506498  1.554677e+06\n",
       "min    45710.000000  45872.000000  45650.000000  45711.000000  0.000000e+00\n",
       "25%    47208.750000  47258.750000  47158.000000  47208.750000  5.757432e+05\n",
       "50%    47835.500000  47881.000000  47778.500000  47835.500000  9.718186e+05\n",
       "75%    50394.250000  50451.750000  50354.500000  50392.500000  1.737342e+06\n",
       "max    51960.000000  52129.000000  51900.000000  51959.000000  2.576473e+07"
      ]
     },
     "execution_count": 11,
     "metadata": {},
     "output_type": "execute_result"
    }
   ],
   "source": [
    "df.describe()"
   ]
  },
  {
   "cell_type": "markdown",
   "id": "322e3b72",
   "metadata": {},
   "source": [
    "Let's plot the closing price."
   ]
  },
  {
   "cell_type": "code",
   "execution_count": 12,
   "id": "08a71e4b",
   "metadata": {},
   "outputs": [
    {
     "data": {
      "text/plain": [
       "(array([18986., 18987., 18988., 18989., 18990., 18991., 18992., 18993.,\n",
       "        18994., 18995.]),\n",
       " [Text(0, 0, ''),\n",
       "  Text(0, 0, ''),\n",
       "  Text(0, 0, ''),\n",
       "  Text(0, 0, ''),\n",
       "  Text(0, 0, ''),\n",
       "  Text(0, 0, ''),\n",
       "  Text(0, 0, ''),\n",
       "  Text(0, 0, ''),\n",
       "  Text(0, 0, ''),\n",
       "  Text(0, 0, '')])"
      ]
     },
     "execution_count": 12,
     "metadata": {},
     "output_type": "execute_result"
    },
    {
     "data": {
      "image/png": "[encoded data removed]",
      "text/plain": [
       "<Figure size 432x288 with 1 Axes>"
      ]
     },
     "metadata": {
      "needs_background": "light"
     },
     "output_type": "display_data"
    }
   ],
   "source": [
    "plt.plot(df.Close)\n",
    "plt.title(f'Closing Price for the {pair} pair')\n",
    "plt.xlabel('Time')\n",
    "plt.ylabel('Closing Price')\n",
    "plt.xticks(rotation=90)"
   ]
  },
  {
   "cell_type": "markdown",
   "id": "a48bc3ce",
   "metadata": {},
   "source": [
    "Remember, it is foundamental for the project to well define the axis labels and to give a title to the plot. This figure shows that the price is non-stationary. Roughly speaking the existence of strong seasonalities confirms the previous assertion."
   ]
  },
  {
   "cell_type": "markdown",
   "id": "2b98df96",
   "metadata": {},
   "source": [
    "In order to work with stationary data we want to trasform prices in returns. Roughly speaking, the return can be thought as the percentage change between the current and a prior element. There are several ways to compute the return. Let's start with the implementation of the formula seen in class."
   ]
  },
  {
   "cell_type": "code",
   "execution_count": 13,
   "id": "ddb66829",
   "metadata": {},
   "outputs": [],
   "source": [
    "closing_prices = df.Close"
   ]
  },
  {
   "cell_type": "code",
   "execution_count": 14,
   "id": "8b3e23c0",
   "metadata": {},
   "outputs": [
    {
     "name": "stdout",
     "output_type": "stream",
     "text": [
      "Time\n",
      "2021-12-25 00:00:00    0.001401\n",
      "2021-12-25 00:05:00   -0.003134\n",
      "2021-12-25 00:10:00    0.001957\n",
      "2021-12-25 00:15:00    0.001480\n",
      "2021-12-25 00:20:00    0.000059\n",
      "Name: Close, dtype: float64\n"
     ]
    }
   ],
   "source": [
    "rets = (closing_prices[1:].values / closing_prices[:-1]) - 1\n",
    "print(rets.head(5))"
   ]
  },
  {
   "cell_type": "markdown",
   "id": "20d236c0",
   "metadata": {},
   "source": [
    "We don't need to compute returns by hand. We can use functions made available by the above described libraries."
   ]
  },
  {
   "cell_type": "code",
   "execution_count": 15,
   "id": "8afe2d7b",
   "metadata": {},
   "outputs": [
    {
     "name": "stdout",
     "output_type": "stream",
     "text": [
      "Time\n",
      "2021-12-25 00:00:00         NaN\n",
      "2021-12-25 00:05:00    0.001401\n",
      "2021-12-25 00:10:00   -0.003134\n",
      "2021-12-25 00:15:00    0.001957\n",
      "2021-12-25 00:20:00    0.001480\n",
      "                         ...   \n",
      "2022-01-02 23:35:00    0.001609\n",
      "2022-01-02 23:40:00    0.001670\n",
      "2022-01-02 23:45:00   -0.001983\n",
      "2022-01-02 23:50:00   -0.000338\n",
      "2022-01-02 23:55:00   -0.000169\n",
      "Name: Close, Length: 2592, dtype: float64\n"
     ]
    }
   ],
   "source": [
    "returns = closing_prices.pct_change()\n",
    "print(returns)"
   ]
  },
  {
   "cell_type": "markdown",
   "id": "f5f294a0",
   "metadata": {},
   "source": [
    "In this case we can also specify the period at which we want to compute returns."
   ]
  },
  {
   "cell_type": "code",
   "execution_count": 16,
   "id": "81aed80d",
   "metadata": {},
   "outputs": [
    {
     "name": "stdout",
     "output_type": "stream",
     "text": [
      "Time\n",
      "2021-12-25 00:00:00         NaN\n",
      "2021-12-25 00:05:00         NaN\n",
      "2021-12-25 00:10:00   -0.001737\n",
      "2021-12-25 00:15:00   -0.001182\n",
      "2021-12-25 00:20:00    0.003440\n",
      "                         ...   \n",
      "2022-01-02 23:35:00    0.003180\n",
      "2022-01-02 23:40:00    0.003281\n",
      "2022-01-02 23:45:00   -0.000317\n",
      "2022-01-02 23:50:00   -0.002321\n",
      "2022-01-02 23:55:00   -0.000507\n",
      "Name: Close, Length: 2592, dtype: float64\n"
     ]
    }
   ],
   "source": [
    "returns = closing_prices.pct_change(2)\n",
    "print(returns)"
   ]
  },
  {
   "cell_type": "markdown",
   "id": "36b5085e",
   "metadata": {},
   "source": [
    "Let's go back to time 1 and let's remove the null values."
   ]
  },
  {
   "cell_type": "code",
   "execution_count": 17,
   "id": "56e274c4",
   "metadata": {},
   "outputs": [
    {
     "name": "stdout",
     "output_type": "stream",
     "text": [
      "Time\n",
      "2021-12-25 00:05:00    0.001401\n",
      "2021-12-25 00:10:00   -0.003134\n",
      "2021-12-25 00:15:00    0.001957\n",
      "2021-12-25 00:20:00    0.001480\n",
      "2021-12-25 00:25:00    0.000059\n",
      "                         ...   \n",
      "2022-01-02 23:35:00    0.001609\n",
      "2022-01-02 23:40:00    0.001670\n",
      "2022-01-02 23:45:00   -0.001983\n",
      "2022-01-02 23:50:00   -0.000338\n",
      "2022-01-02 23:55:00   -0.000169\n",
      "Name: Close, Length: 2591, dtype: float64\n"
     ]
    }
   ],
   "source": [
    "returns = closing_prices.pct_change().dropna()\n",
    "print(returns)"
   ]
  },
  {
   "cell_type": "code",
   "execution_count": 18,
   "id": "52dcc181",
   "metadata": {},
   "outputs": [
    {
     "data": {
      "text/plain": [
       "(array([18986., 18987., 18988., 18989., 18990., 18991., 18992., 18993.,\n",
       "        18994., 18995.]),\n",
       " [Text(0, 0, ''),\n",
       "  Text(0, 0, ''),\n",
       "  Text(0, 0, ''),\n",
       "  Text(0, 0, ''),\n",
       "  Text(0, 0, ''),\n",
       "  Text(0, 0, ''),\n",
       "  Text(0, 0, ''),\n",
       "  Text(0, 0, ''),\n",
       "  Text(0, 0, ''),\n",
       "  Text(0, 0, '')])"
      ]
     },
     "execution_count": 18,
     "metadata": {},
     "output_type": "execute_result"
    },
    {
     "data": {
      "image/png": "[encoded data removed]",
      "text/plain": [
       "<Figure size 432x288 with 1 Axes>"
      ]
     },
     "metadata": {
      "needs_background": "light"
     },
     "output_type": "display_data"
    }
   ],
   "source": [
    "plt.plot(returns)\n",
    "plt.title(f'Returns for the {pair} pair - computed on the closing price')\n",
    "plt.xlabel('Time')\n",
    "plt.ylabel('Return')\n",
    "plt.xticks(rotation=90)"
   ]
  },
  {
   "cell_type": "markdown",
   "id": "034933eb",
   "metadata": {},
   "source": [
    "Let's now switch to log-returns. "
   ]
  },
  {
   "cell_type": "code",
   "execution_count": 19,
   "id": "9530b764",
   "metadata": {},
   "outputs": [
    {
     "name": "stdout",
     "output_type": "stream",
     "text": [
      "Time\n",
      "2021-12-25 00:00:00    50670.0\n",
      "2021-12-25 00:05:00    50741.0\n",
      "2021-12-25 00:10:00    50582.0\n",
      "Name: Close, dtype: float64\n",
      "Time\n",
      "2021-12-25 00:00:00        NaN\n",
      "2021-12-25 00:05:00    50670.0\n",
      "2021-12-25 00:10:00    50741.0\n",
      "Name: Close, dtype: float64\n"
     ]
    }
   ],
   "source": [
    "print(closing_prices.head(3))\n",
    "print(closing_prices.shift(1).head(3))"
   ]
  },
  {
   "cell_type": "code",
   "execution_count": 20,
   "id": "a9009dfb",
   "metadata": {},
   "outputs": [
    {
     "name": "stdout",
     "output_type": "stream",
     "text": [
      "Time\n",
      "2021-12-25 00:00:00         NaN\n",
      "2021-12-25 00:05:00    0.001400\n",
      "2021-12-25 00:10:00   -0.003138\n",
      "2021-12-25 00:15:00    0.001955\n",
      "2021-12-25 00:20:00    0.001479\n",
      "                         ...   \n",
      "2022-01-02 23:35:00    0.001608\n",
      "2022-01-02 23:40:00    0.001668\n",
      "2022-01-02 23:45:00   -0.001985\n",
      "2022-01-02 23:50:00   -0.000338\n",
      "2022-01-02 23:55:00   -0.000169\n",
      "Name: Close, Length: 2592, dtype: float64\n"
     ]
    }
   ],
   "source": [
    "log_rets = np.log(closing_prices) - np.log(closing_prices.shift(1))\n",
    "print(log_rets)"
   ]
  },
  {
   "cell_type": "code",
   "execution_count": 21,
   "id": "d5685481",
   "metadata": {},
   "outputs": [
    {
     "name": "stdout",
     "output_type": "stream",
     "text": [
      "Time\n",
      "2021-12-25 00:05:00    0.001400\n",
      "2021-12-25 00:10:00   -0.003138\n",
      "2021-12-25 00:15:00    0.001955\n",
      "2021-12-25 00:20:00    0.001479\n",
      "2021-12-25 00:25:00    0.000059\n",
      "                         ...   \n",
      "2022-01-02 23:35:00    0.001608\n",
      "2022-01-02 23:40:00    0.001668\n",
      "2022-01-02 23:45:00   -0.001985\n",
      "2022-01-02 23:50:00   -0.000338\n",
      "2022-01-02 23:55:00   -0.000169\n",
      "Name: Close, Length: 2591, dtype: float64\n"
     ]
    }
   ],
   "source": [
    "log_rets.dropna(inplace=True)\n",
    "print(log_rets)"
   ]
  },
  {
   "cell_type": "code",
   "execution_count": 22,
   "id": "977c26c5",
   "metadata": {},
   "outputs": [
    {
     "data": {
      "text/plain": [
       "(array([18986., 18987., 18988., 18989., 18990., 18991., 18992., 18993.,\n",
       "        18994., 18995.]),\n",
       " [Text(0, 0, ''),\n",
       "  Text(0, 0, ''),\n",
       "  Text(0, 0, ''),\n",
       "  Text(0, 0, ''),\n",
       "  Text(0, 0, ''),\n",
       "  Text(0, 0, ''),\n",
       "  Text(0, 0, ''),\n",
       "  Text(0, 0, ''),\n",
       "  Text(0, 0, ''),\n",
       "  Text(0, 0, '')])"
      ]
     },
     "execution_count": 22,
     "metadata": {},
     "output_type": "execute_result"
    },
    {
     "data": {
      "image/png": "[encoded data removed]",
      "text/plain": [
       "<Figure size 432x288 with 1 Axes>"
      ]
     },
     "metadata": {
      "needs_background": "light"
     },
     "output_type": "display_data"
    }
   ],
   "source": [
    "plt.plot(returns)\n",
    "plt.title(f'Log returns for the {pair} pair - computed on the closing price')\n",
    "plt.xlabel('Time')\n",
    "plt.ylabel('Log return')\n",
    "plt.xticks(rotation=90)"
   ]
  },
  {
   "cell_type": "markdown",
   "id": "b3cd1e00",
   "metadata": {},
   "source": [
    "Also in this case an alternative formula exists for the log rets computation. Also in this case we will use functions from python library in order to compute them."
   ]
  },
  {
   "cell_type": "code",
   "execution_count": 23,
   "id": "e0651a3b",
   "metadata": {},
   "outputs": [
    {
     "name": "stdout",
     "output_type": "stream",
     "text": [
      "Time\n",
      "2021-12-25 00:05:00    0.001400\n",
      "2021-12-25 00:10:00   -0.003138\n",
      "2021-12-25 00:15:00    0.001955\n",
      "2021-12-25 00:20:00    0.001479\n",
      "2021-12-25 00:25:00    0.000059\n",
      "                         ...   \n",
      "2022-01-02 23:35:00    0.001608\n",
      "2022-01-02 23:40:00    0.001668\n",
      "2022-01-02 23:45:00   -0.001985\n",
      "2022-01-02 23:50:00   -0.000338\n",
      "2022-01-02 23:55:00   -0.000169\n",
      "Name: Close, Length: 2591, dtype: float64\n"
     ]
    }
   ],
   "source": [
    "print(np.log(1 + closing_prices.pct_change()).dropna())"
   ]
  },
  {
   "cell_type": "markdown",
   "id": "b6fe4b2f",
   "metadata": {},
   "source": [
    "Let's now plot the histogram of the log returns. It is a discretization of the distribution."
   ]
  },
  {
   "cell_type": "code",
   "execution_count": 24,
   "id": "27a8ebac",
   "metadata": {},
   "outputs": [
    {
     "data": {
      "text/plain": [
       "Text(0, 0.5, 'Frequency')"
      ]
     },
     "execution_count": 24,
     "metadata": {},
     "output_type": "execute_result"
    },
    {
     "data": {
      "image/png": "[encoded data removed]",
      "text/plain": [
       "<Figure size 432x288 with 1 Axes>"
      ]
     },
     "metadata": {
      "needs_background": "light"
     },
     "output_type": "display_data"
    }
   ],
   "source": [
    "plt.hist(log_rets)\n",
    "plt.title('Log rets distribution')\n",
    "plt.xlabel('Log return')\n",
    "plt.ylabel('Frequency')"
   ]
  },
  {
   "cell_type": "markdown",
   "id": "0c932611",
   "metadata": {},
   "source": [
    "We can control the number of bins in which the values should be disretized."
   ]
  },
  {
   "cell_type": "code",
   "execution_count": 25,
   "id": "5c8a8390",
   "metadata": {},
   "outputs": [
    {
     "data": {
      "text/plain": [
       "Text(0, 0.5, 'Frequency')"
      ]
     },
     "execution_count": 25,
     "metadata": {},
     "output_type": "execute_result"
    },
    {
     "data": {
      "image/png": "[encoded data removed]",
      "text/plain": [
       "<Figure size 432x288 with 1 Axes>"
      ]
     },
     "metadata": {
      "needs_background": "light"
     },
     "output_type": "display_data"
    }
   ],
   "source": [
    "plt.hist(log_rets, bins=100)\n",
    "plt.title('Log rets distribution')\n",
    "plt.xlabel('Log return')\n",
    "plt.ylabel('Frequency')"
   ]
  },
  {
   "cell_type": "markdown",
   "id": "a49b2315",
   "metadata": {},
   "source": [
    "Let's now start with the moments. Let's start with the mean."
   ]
  },
  {
   "cell_type": "code",
   "execution_count": 26,
   "id": "10f1b195",
   "metadata": {},
   "outputs": [],
   "source": [
    "def mean(data):\n",
    "    # Number of observations\n",
    "    n = len(data)\n",
    "    # Mean of the data\n",
    "    mean = sum(data) / n\n",
    "    return mean"
   ]
  },
  {
   "cell_type": "code",
   "execution_count": 27,
   "id": "760ab402",
   "metadata": {},
   "outputs": [
    {
     "data": {
      "text/plain": [
       "-2.675849183242901e-05"
      ]
     },
     "execution_count": 27,
     "metadata": {},
     "output_type": "execute_result"
    }
   ],
   "source": [
    "mean(log_rets)"
   ]
  },
  {
   "cell_type": "markdown",
   "id": "a6d77122",
   "metadata": {},
   "source": [
    "Let's now analyze the variance."
   ]
  },
  {
   "cell_type": "code",
   "execution_count": 28,
   "id": "1c263316",
   "metadata": {},
   "outputs": [],
   "source": [
    "def variance(data):\n",
    "    # Number of observations\n",
    "    n = len(data)\n",
    "    # Mean of the data\n",
    "    mean = sum(data) / n\n",
    "    # Square deviations\n",
    "    deviations = [(x - mean) ** 2 for x in data]\n",
    "    # Variance\n",
    "    variance = sum(deviations) / n\n",
    "    return variance"
   ]
  },
  {
   "cell_type": "code",
   "execution_count": 29,
   "id": "c538e9e0",
   "metadata": {},
   "outputs": [
    {
     "data": {
      "text/plain": [
       "2.586877430833101e-06"
      ]
     },
     "execution_count": 29,
     "metadata": {},
     "output_type": "execute_result"
    }
   ],
   "source": [
    "variance(log_rets)"
   ]
  },
  {
   "cell_type": "markdown",
   "id": "60be79e4",
   "metadata": {},
   "source": [
    "Cklearly we don't need to write all the functions by hand. Let's see a scipy function that gives us all the moments of the distribution."
   ]
  },
  {
   "cell_type": "code",
   "execution_count": 30,
   "id": "fdd8b127",
   "metadata": {},
   "outputs": [
    {
     "name": "stdout",
     "output_type": "stream",
     "text": [
      "DescribeResult(nobs=2591, minmax=(-0.01473450236110807, 0.013345554247722546), mean=-2.675849183242901e-05, variance=2.587876225207937e-06, skewness=-0.13218306426271942, kurtosis=11.69318867216526)\n"
     ]
    }
   ],
   "source": [
    "moments = describe(log_rets)\n",
    "print(moments)"
   ]
  },
  {
   "cell_type": "markdown",
   "id": "61fd2d9b",
   "metadata": {},
   "source": [
    "It is also possible to compute the central moments."
   ]
  },
  {
   "cell_type": "code",
   "execution_count": 31,
   "id": "04e59054",
   "metadata": {},
   "outputs": [
    {
     "name": "stdout",
     "output_type": "stream",
     "text": [
      "2.5868774308330982e-06\n"
     ]
    }
   ],
   "source": [
    "central_moments = moment(log_rets,  moment=2)\n",
    "print(central_moments)"
   ]
  },
  {
   "cell_type": "code",
   "execution_count": 32,
   "id": "d2aaf441",
   "metadata": {},
   "outputs": [
    {
     "data": {
      "text/plain": [
       "Text(0, 0.5, 'Frequency')"
      ]
     },
     "execution_count": 32,
     "metadata": {},
     "output_type": "execute_result"
    },
    {
     "data": {
      "image/png": "[encoded data removed]",
      "text/plain": [
       "<Figure size 432x288 with 1 Axes>"
      ]
     },
     "metadata": {
      "needs_background": "light"
     },
     "output_type": "display_data"
    }
   ],
   "source": [
    "plt.hist(log_rets, bins=100)\n",
    "plt.axvline(mean(log_rets), color='red', label='mean')\n",
    "plt.title('Log rets distribution')\n",
    "plt.legend()\n",
    "plt.xlabel('Log return')\n",
    "plt.ylabel('Frequency')"
   ]
  },
  {
   "cell_type": "code",
   "execution_count": 33,
   "id": "bdc57911",
   "metadata": {},
   "outputs": [
    {
     "data": {
      "text/plain": [
       "Text(0, 0.5, 'Frequency')"
      ]
     },
     "execution_count": 33,
     "metadata": {},
     "output_type": "execute_result"
    },
    {
     "data": {
      "image/png": "[encoded data removed]",
      "text/plain": [
       "<Figure size 432x288 with 1 Axes>"
      ]
     },
     "metadata": {
      "needs_background": "light"
     },
     "output_type": "display_data"
    }
   ],
   "source": [
    "plt.hist(log_rets, bins=100, alpha=0.5)\n",
    "plt.axvline(mean(log_rets), color='red', label='mean')\n",
    "plt.axvline(np.sqrt(variance(log_rets)), color='green', label='std')\n",
    "plt.axvline(-np.sqrt(variance(log_rets)), color='green')\n",
    "plt.title('Log rets distribution')\n",
    "plt.legend()\n",
    "plt.xlabel('Log return')\n",
    "plt.ylabel('Frequency')"
   ]
  },
  {
   "cell_type": "markdown",
   "id": "edfc4e48",
   "metadata": {},
   "source": [
    "## This is an additional part that they should do by their own"
   ]
  },
  {
   "cell_type": "markdown",
   "id": "a4ad5a7b",
   "metadata": {},
   "source": [
    "Let's start by computing the quantiles. Quantiles are the set of values/points that divides the dataset into groups of equal size. "
   ]
  },
  {
   "cell_type": "code",
   "execution_count": 34,
   "id": "ebd70e78",
   "metadata": {},
   "outputs": [
    {
     "name": "stdout",
     "output_type": "stream",
     "text": [
      "[-0.00053921  0.00049243  0.00367953]\n"
     ]
    }
   ],
   "source": [
    "print(np.quantile(log_rets, q = np.arange(0.33, 1, 0.33)))  "
   ]
  },
  {
   "cell_type": "code",
   "execution_count": 35,
   "id": "82f1e97b",
   "metadata": {},
   "outputs": [
    {
     "name": "stdout",
     "output_type": "stream",
     "text": [
      "[-8.61785121e-04 -2.08726870e-05  8.03774588e-04]\n"
     ]
    }
   ],
   "source": [
    "print(np.quantile(log_rets, q = np.arange(0.25, 1, 0.25)))  "
   ]
  },
  {
   "cell_type": "code",
   "execution_count": 36,
   "id": "9e82375b",
   "metadata": {},
   "outputs": [
    {
     "name": "stdout",
     "output_type": "stream",
     "text": [
      "-2.087268704720202e-05\n"
     ]
    }
   ],
   "source": [
    "print(np.median(log_rets))  "
   ]
  },
  {
   "cell_type": "markdown",
   "id": "07aac35c",
   "metadata": {},
   "source": [
    "Let's now try to write the function to obtain the skewness."
   ]
  },
  {
   "cell_type": "code",
   "execution_count": 49,
   "id": "2a8097f1",
   "metadata": {},
   "outputs": [],
   "source": [
    "def skew(data):\n",
    "    # Number of observations\n",
    "    n = len(data)\n",
    "    # Mean of the data\n",
    "    mean = sum(data) / n\n",
    "    # Deviations\n",
    "    deviations = [(x - mean) ** 3 for x in data]\n",
    "    # Skew\n",
    "    skew = sum(deviations) / (n * np.sqrt(variance(log_rets))**3)\n",
    "    return skew"
   ]
  },
  {
   "cell_type": "code",
   "execution_count": 50,
   "id": "e4993e50",
   "metadata": {},
   "outputs": [
    {
     "data": {
      "text/plain": [
       "-0.1321830642627182"
      ]
     },
     "execution_count": 50,
     "metadata": {},
     "output_type": "execute_result"
    }
   ],
   "source": [
    "skew(log_rets)"
   ]
  },
  {
   "cell_type": "code",
   "execution_count": 51,
   "id": "d7f8a17b",
   "metadata": {},
   "outputs": [],
   "source": [
    "def kurt(data):\n",
    "    # Number of observations\n",
    "    n = len(data)\n",
    "    # Mean of the data\n",
    "    mean = sum(data) / n\n",
    "    # Deviations\n",
    "    deviations = [(x - mean) ** 4 for x in data]\n",
    "    # Kurt\n",
    "    kurt = sum(deviations) / (n * np.sqrt(variance(log_rets))**4)\n",
    "    return kurt"
   ]
  },
  {
   "cell_type": "code",
   "execution_count": 52,
   "id": "25d7fd8b",
   "metadata": {},
   "outputs": [
    {
     "data": {
      "text/plain": [
       "14.693188672165247"
      ]
     },
     "execution_count": 52,
     "metadata": {},
     "output_type": "execute_result"
    }
   ],
   "source": [
    "kurt(log_rets)"
   ]
  },
  {
   "cell_type": "markdown",
   "id": "52e18d2d",
   "metadata": {},
   "source": [
    "## Additional graphical part"
   ]
  },
  {
   "cell_type": "markdown",
   "id": "9a5c5c97",
   "metadata": {},
   "source": [
    "Before starting the group work, let's see another graphical library to plot OHLCV data."
   ]
  },
  {
   "cell_type": "code",
   "execution_count": 55,
   "id": "20228724",
   "metadata": {},
   "outputs": [
    {
     "name": "stderr",
     "output_type": "stream",
     "text": [
      "/Library/Frameworks/Python.framework/Versions/3.8/lib/python3.8/site-packages/mplfinance/_arg_validators.py:35: UserWarning: \n",
      "\n",
      " ================================================================= \n",
      "\n",
      "   WARNING: YOU ARE PLOTTING SO MUCH DATA THAT IT MAY NOT BE\n",
      "            POSSIBLE TO SEE DETAILS (Candles, Ohlc-Bars, Etc.)\n",
      "   For more information see:\n",
      "   - https://github.com/matplotlib/mplfinance/wiki/Plotting-Too-Much-Data\n",
      "   \n",
      "   TO SILENCE THIS WARNING, set `type='line'` in `mpf.plot()`\n",
      "   OR set kwarg `warn_too_much_data=N` where N is an integer \n",
      "   LARGER than the number of data points you want to plot.\n",
      "\n",
      " ================================================================ \n",
      "  warnings.warn('\\n\\n ================================================================= '+\n"
     ]
    },
    {
     "data": {
      "image/png": "[encoded data removed]",
      "text/plain": [
       "<Figure size 800x575 with 2 Axes>"
      ]
     },
     "metadata": {},
     "output_type": "display_data"
    }
   ],
   "source": [
    "mpf.plot(df,type='candle')"
   ]
  },
  {
   "cell_type": "code",
   "execution_count": 56,
   "id": "7910b793",
   "metadata": {},
   "outputs": [
    {
     "data": {
      "image/png": "[encoded data removed]",
      "text/plain": [
       "<Figure size 800x575 with 2 Axes>"
      ]
     },
     "metadata": {},
     "output_type": "display_data"
    }
   ],
   "source": [
    "mpf.plot(df.iloc[:12, :],type='candle')"
   ]
  },
  {
   "cell_type": "code",
   "execution_count": 57,
   "id": "d2bb2131",
   "metadata": {},
   "outputs": [
    {
     "data": {
      "image/png": "[encoded data removed]",
      "text/plain": [
       "<Figure size 800x575 with 4 Axes>"
      ]
     },
     "metadata": {},
     "output_type": "display_data"
    }
   ],
   "source": [
    "mpf.plot(df.iloc[:12, :],type='candle', volume=True)"
   ]
  }
 ],
 "metadata": {
  "kernelspec": {
   "display_name": "Python 3 (ipykernel)",
   "language": "python",
   "name": "python3"
  },
  "language_info": {
   "codemirror_mode": {
    "name": "ipython",
    "version": 3
   },
   "file_extension": ".py",
   "mimetype": "text/x-python",
   "name": "python",
   "nbconvert_exporter": "python",
   "pygments_lexer": "ipython3",
   "version": "3.9.13"
  }
 },
 "nbformat": 4,
 "nbformat_minor": 5
}
