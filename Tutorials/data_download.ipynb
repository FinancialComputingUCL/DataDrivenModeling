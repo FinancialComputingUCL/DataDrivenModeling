{
 "cells": [
  {
   "cell_type": "markdown",
   "metadata": {},
   "source": [
    "# How to download crypto data"
   ]
  },
  {
   "cell_type": "markdown",
   "metadata": {},
   "source": [
    "CSV files in the _data_ folder contains TOHLCV (time, open, high, low, close, volume) crypto data with a resolution equals to 5 minutes. The considered pairs are: BTC/USD, ETH/USD, SOL/USD, BNB/USD, USDT/USD, LTC/USD, DOGE/USD. The considered period is 2021/12/22 - 2022/01/02. Data have been retrieved using the open source Python package named _ccxt_ (https://docs.ccxt.com/en/latest/manual.html). The considered exchange is FTX (https://ftx.com). A jupyter notebook showing the downloading process is provided."
   ]
  },
  {
   "cell_type": "code",
   "execution_count": 65,
   "metadata": {},
   "outputs": [],
   "source": [
    "import pandas as pd\n",
    "import time\n",
    "\n",
    "import ccxt\n",
    "import calendar\n",
    "import datetime \n",
    "\n",
    "from datetime import date, timedelta"
   ]
  },
  {
   "cell_type": "code",
   "execution_count": 66,
   "metadata": {},
   "outputs": [],
   "source": [
    "sdate = date(2021,12,25)   # start date -> included\n",
    "edate = date(2022,1,3)   # end date - excluded\n",
    "\n",
    "pair = 'DOGE/USD'"
   ]
  },
  {
   "cell_type": "code",
   "execution_count": 67,
   "metadata": {},
   "outputs": [],
   "source": [
    "list_dates = pd.date_range(sdate,edate-timedelta(days=1),freq='d').strftime(\"%Y-%m-%d\").tolist()"
   ]
  },
  {
   "cell_type": "code",
   "execution_count": 68,
   "metadata": {},
   "outputs": [],
   "source": [
    "ftx = ccxt.ftx()\n",
    "final_df = pd.DataFrame({'Time':[], 'Open':[], 'High':[], 'Low':[], 'Close':[], 'Volume':[]})\n",
    "\n",
    "for date in list_dates:\n",
    "    since = date\n",
    "    since = time.mktime(datetime.datetime.strptime(since, \"%Y-%m-%d\").timetuple()) * 1000\n",
    "    ohlcv = ftx.fetch_ohlcv(symbol=pair, timeframe='5m', since=since)\n",
    "    start_dt = datetime.datetime.fromtimestamp(ohlcv[0][0]/1000)\n",
    "    end_dt = datetime.datetime.fromtimestamp(ohlcv[-1][0]/1000)\n",
    "\n",
    "    df = pd.DataFrame(ohlcv, columns = ['Time', 'Open', 'High', 'Low', 'Close', 'Volume'])\n",
    "    df['Time'] = [datetime.datetime.fromtimestamp(float(time)/1000) for time in df['Time']]\n",
    "    df = df.iloc[:12*24, :]\n",
    "    \n",
    "    final_df = final_df.append(df, ignore_index=True)\n",
    "    \n",
    "final_df.set_index('Time', inplace=True)"
   ]
  },
  {
   "cell_type": "code",
   "execution_count": 69,
   "metadata": {},
   "outputs": [],
   "source": [
    "pair = pair.replace('/', '-')\n",
    "final_df.to_csv(f'data_{pair}.csv')"
   ]
  },
  {
   "cell_type": "code",
   "execution_count": 70,
   "metadata": {},
   "outputs": [],
   "source": [
    "df = pd.read_csv(f'./data_{pair}.csv')"
   ]
  },
  {
   "cell_type": "code",
   "execution_count": 71,
   "metadata": {},
   "outputs": [],
   "source": [
    "df.set_index('Time', inplace=True)"
   ]
  },
  {
   "cell_type": "code",
   "execution_count": 72,
   "metadata": {},
   "outputs": [
    {
     "data": {
      "text/html": [
       "<div>\n",
       "<style scoped>\n",
       "    .dataframe tbody tr th:only-of-type {\n",
       "        vertical-align: middle;\n",
       "    }\n",
       "\n",
       "    .dataframe tbody tr th {\n",
       "        vertical-align: top;\n",
       "    }\n",
       "\n",
       "    .dataframe thead th {\n",
       "        text-align: right;\n",
       "    }\n",
       "</style>\n",
       "<table border=\"1\" class=\"dataframe\">\n",
       "  <thead>\n",
       "    <tr style=\"text-align: right;\">\n",
       "      <th></th>\n",
       "      <th>Open</th>\n",
       "      <th>High</th>\n",
       "      <th>Low</th>\n",
       "      <th>Close</th>\n",
       "      <th>Volume</th>\n",
       "    </tr>\n",
       "    <tr>\n",
       "      <th>Time</th>\n",
       "      <th></th>\n",
       "      <th></th>\n",
       "      <th></th>\n",
       "      <th></th>\n",
       "      <th></th>\n",
       "    </tr>\n",
       "  </thead>\n",
       "  <tbody>\n",
       "    <tr>\n",
       "      <th>2021-12-25 00:00:00</th>\n",
       "      <td>0.187195</td>\n",
       "      <td>0.187208</td>\n",
       "      <td>0.185744</td>\n",
       "      <td>0.186852</td>\n",
       "      <td>90314.800492</td>\n",
       "    </tr>\n",
       "    <tr>\n",
       "      <th>2021-12-25 00:05:00</th>\n",
       "      <td>0.186867</td>\n",
       "      <td>0.187027</td>\n",
       "      <td>0.186454</td>\n",
       "      <td>0.186544</td>\n",
       "      <td>55508.301788</td>\n",
       "    </tr>\n",
       "    <tr>\n",
       "      <th>2021-12-25 00:10:00</th>\n",
       "      <td>0.186533</td>\n",
       "      <td>0.186559</td>\n",
       "      <td>0.184204</td>\n",
       "      <td>0.185183</td>\n",
       "      <td>199235.934907</td>\n",
       "    </tr>\n",
       "    <tr>\n",
       "      <th>2021-12-25 00:15:00</th>\n",
       "      <td>0.185183</td>\n",
       "      <td>0.185996</td>\n",
       "      <td>0.184837</td>\n",
       "      <td>0.185996</td>\n",
       "      <td>81289.208735</td>\n",
       "    </tr>\n",
       "    <tr>\n",
       "      <th>2021-12-25 00:20:00</th>\n",
       "      <td>0.185999</td>\n",
       "      <td>0.186759</td>\n",
       "      <td>0.185780</td>\n",
       "      <td>0.186446</td>\n",
       "      <td>121510.656159</td>\n",
       "    </tr>\n",
       "    <tr>\n",
       "      <th>...</th>\n",
       "      <td>...</td>\n",
       "      <td>...</td>\n",
       "      <td>...</td>\n",
       "      <td>...</td>\n",
       "      <td>...</td>\n",
       "    </tr>\n",
       "    <tr>\n",
       "      <th>2022-01-02 23:35:00</th>\n",
       "      <td>0.174313</td>\n",
       "      <td>0.174521</td>\n",
       "      <td>0.174299</td>\n",
       "      <td>0.174521</td>\n",
       "      <td>11705.199171</td>\n",
       "    </tr>\n",
       "    <tr>\n",
       "      <th>2022-01-02 23:40:00</th>\n",
       "      <td>0.174521</td>\n",
       "      <td>0.174650</td>\n",
       "      <td>0.174497</td>\n",
       "      <td>0.174649</td>\n",
       "      <td>14119.417816</td>\n",
       "    </tr>\n",
       "    <tr>\n",
       "      <th>2022-01-02 23:45:00</th>\n",
       "      <td>0.174649</td>\n",
       "      <td>0.174656</td>\n",
       "      <td>0.174147</td>\n",
       "      <td>0.174152</td>\n",
       "      <td>22410.825600</td>\n",
       "    </tr>\n",
       "    <tr>\n",
       "      <th>2022-01-02 23:50:00</th>\n",
       "      <td>0.174152</td>\n",
       "      <td>0.174249</td>\n",
       "      <td>0.174069</td>\n",
       "      <td>0.174242</td>\n",
       "      <td>5591.216193</td>\n",
       "    </tr>\n",
       "    <tr>\n",
       "      <th>2022-01-02 23:55:00</th>\n",
       "      <td>0.174242</td>\n",
       "      <td>0.174630</td>\n",
       "      <td>0.174242</td>\n",
       "      <td>0.174617</td>\n",
       "      <td>15110.174376</td>\n",
       "    </tr>\n",
       "  </tbody>\n",
       "</table>\n",
       "<p>2592 rows × 5 columns</p>\n",
       "</div>"
      ],
      "text/plain": [
       "                         Open      High       Low     Close         Volume\n",
       "Time                                                                      \n",
       "2021-12-25 00:00:00  0.187195  0.187208  0.185744  0.186852   90314.800492\n",
       "2021-12-25 00:05:00  0.186867  0.187027  0.186454  0.186544   55508.301788\n",
       "2021-12-25 00:10:00  0.186533  0.186559  0.184204  0.185183  199235.934907\n",
       "2021-12-25 00:15:00  0.185183  0.185996  0.184837  0.185996   81289.208735\n",
       "2021-12-25 00:20:00  0.185999  0.186759  0.185780  0.186446  121510.656159\n",
       "...                       ...       ...       ...       ...            ...\n",
       "2022-01-02 23:35:00  0.174313  0.174521  0.174299  0.174521   11705.199171\n",
       "2022-01-02 23:40:00  0.174521  0.174650  0.174497  0.174649   14119.417816\n",
       "2022-01-02 23:45:00  0.174649  0.174656  0.174147  0.174152   22410.825600\n",
       "2022-01-02 23:50:00  0.174152  0.174249  0.174069  0.174242    5591.216193\n",
       "2022-01-02 23:55:00  0.174242  0.174630  0.174242  0.174617   15110.174376\n",
       "\n",
       "[2592 rows x 5 columns]"
      ]
     },
     "execution_count": 72,
     "metadata": {},
     "output_type": "execute_result"
    }
   ],
   "source": [
    "df"
   ]
  },
  {
   "cell_type": "code",
   "execution_count": null,
   "metadata": {},
   "outputs": [],
   "source": []
  }
 ],
 "metadata": {
  "kernelspec": {
   "display_name": "Python 3",
   "language": "python",
   "name": "python3"
  },
  "language_info": {
   "codemirror_mode": {
    "name": "ipython",
    "version": 3
   },
   "file_extension": ".py",
   "mimetype": "text/x-python",
   "name": "python",
   "nbconvert_exporter": "python",
   "pygments_lexer": "ipython3",
   "version": "3.7.9"
  }
 },
 "nbformat": 4,
 "nbformat_minor": 5
}
