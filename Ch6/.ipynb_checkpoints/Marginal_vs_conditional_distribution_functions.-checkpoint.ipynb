{
 "cells": [
  {
   "cell_type": "markdown",
   "id": "7a243bc4",
   "metadata": {},
   "source": [
    "# Marginal and conditional distribution functions.\n",
    "\n",
    "To demonstrate the comparison between marginal and conditional probability distribution functions, we'll create a simple example using Python and matplotlib. We'll consider two random variables, X and Y, and visualize their marginal and conditional probability distributions.\n",
    "\n",
    "The `marginal_prob_distribution` function calculates the marginal probability distribution of a random variable. It uses NumPy's histogram function to calculate the relative frequencies of different values in the data.\n",
    "\n",
    "The `conditional_prob_distribution` function calculates the conditional probability distribution of X given a specific value of Y. It filters the data to consider only those instances where Y equals the specified value and then calculates the relative frequencies using the `histogram` function.\n",
    "\n",
    "The comparison between the marginal and conditional probability distributions allows us to observe how the probabilities of individual outcomes change when we condition on specific values of another random variable. It helps in understanding the relationship between the two variables and their joint behavior."
   ]
  },
  {
   "cell_type": "code",
   "execution_count": 5,
   "id": "2190e2ec",
   "metadata": {},
   "outputs": [],
   "source": [
    "import numpy as np\n",
    "import matplotlib.pyplot as plt"
   ]
  },
  {
   "cell_type": "code",
   "execution_count": 6,
   "id": "879f870a",
   "metadata": {},
   "outputs": [
    {
     "data": {
      "image/png": "[encoded data removed]",
      "text/plain": [
       "<Figure size 720x288 with 2 Axes>"
      ]
     },
     "metadata": {
      "needs_background": "light"
     },
     "output_type": "display_data"
    }
   ],
   "source": [
    "def generate_data(num_samples):\n",
    "    # Generate random data for variables X and Y\n",
    "    X = np.random.randint(1, 7, num_samples)  # Random integers from 1 to 6 (inclusive)\n",
    "    Y = np.random.randint(1, 7, num_samples)\n",
    "    return X, Y\n",
    "\n",
    "def marginal_prob_distribution(data):\n",
    "    # Calculate the marginal probability distribution of a random variable\n",
    "    return np.histogram(data, bins=np.arange(1, 8), density=True)[0]\n",
    "\n",
    "def conditional_prob_distribution(data_x, data_y, value_y):\n",
    "    # Calculate the conditional probability distribution of X given a specific value of Y\n",
    "    mask = data_y == value_y\n",
    "    conditional_data = data_x[mask]\n",
    "    return np.histogram(conditional_data, bins=np.arange(1, 8), density=True)[0]\n",
    "\n",
    "def main():\n",
    "    # Define the number of samples\n",
    "    num_samples = 10000\n",
    "\n",
    "    # Generate random data for X and Y\n",
    "    X, Y = generate_data(num_samples)\n",
    "\n",
    "    # Calculate the marginal probability distributions of X and Y\n",
    "    marginal_X = marginal_prob_distribution(X)\n",
    "    marginal_Y = marginal_prob_distribution(Y)\n",
    "\n",
    "    # Choose a specific value for Y to calculate the conditional probability distribution of X\n",
    "    value_Y = 3\n",
    "    conditional_X_given_Y = conditional_prob_distribution(X, Y, value_Y)\n",
    "\n",
    "    # Plot the results\n",
    "    plt.figure(figsize=(10, 4))\n",
    "\n",
    "    plt.subplot(1, 2, 1)\n",
    "    plt.bar(np.arange(1, 7), marginal_X, width=0.4, label=\"X\")\n",
    "    plt.bar(np.arange(1, 7) + 0.4, marginal_Y, width=0.4, label=\"Y\")\n",
    "    plt.xlabel(\"Values\")\n",
    "    plt.ylabel(\"Probability\")\n",
    "    plt.title(\"Marginal Probability Distribution\")\n",
    "    plt.legend()\n",
    "\n",
    "    plt.subplot(1, 2, 2)\n",
    "    plt.bar(np.arange(1, 7), conditional_X_given_Y, width=0.4)\n",
    "    plt.xlabel(\"Values of X (Conditional on Y=3)\")\n",
    "    plt.ylabel(\"Probability\")\n",
    "    plt.title(\"Conditional Probability Distribution of X given Y=3\")\n",
    "\n",
    "    plt.tight_layout()\n",
    "    plt.show()\n",
    "\n",
    "if __name__ == \"__main__\":\n",
    "    main()"
   ]
  }
 ],
 "metadata": {
  "kernelspec": {
   "display_name": "Python 3 (ipykernel)",
   "language": "python",
   "name": "python3"
  },
  "language_info": {
   "codemirror_mode": {
    "name": "ipython",
    "version": 3
   },
   "file_extension": ".py",
   "mimetype": "text/x-python",
   "name": "python",
   "nbconvert_exporter": "python",
   "pygments_lexer": "ipython3",
   "version": "3.8.12"
  }
 },
 "nbformat": 4,
 "nbformat_minor": 5
}
