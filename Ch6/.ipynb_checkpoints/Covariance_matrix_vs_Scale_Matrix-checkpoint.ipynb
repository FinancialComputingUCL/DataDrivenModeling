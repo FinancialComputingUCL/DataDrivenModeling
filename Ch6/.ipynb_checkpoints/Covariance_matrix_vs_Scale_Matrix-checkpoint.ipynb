{
 "cells": [
  {
   "cell_type": "markdown",
   "id": "baf1360e",
   "metadata": {},
   "source": [
    "# Covaraince matrix vs Scale matrix\n",
    "\n",
    "In linear algebra and statistics, the covariance matrix and the scale matrix (also known as variance-covariance matrix or dispersion matrix) are closely related concepts. The covariance matrix represents the covariance between multiple random variables, while the scale matrix contains the variances of individual variables along the diagonal and covariances between them in off-diagonal elements.\n",
    "\n",
    "The `covariance_matrix` function calculates the covariance matrix. To do this, we first center the data by subtracting the mean of each column from the corresponding column elements. Then we compute the covariance matrix by multiplying the transposed centered data by itself and dividing by `(num_samples - 1)` to obtain an unbiased estimator.\n",
    "\n",
    "The `scale_matrix` function calculates the scale matrix, which is equivalent to the variance-covariance matrix. We use NumPy's cov function with `rowvar=False` to compute the variance-covariance matrix for the given data.\n",
    "\n",
    "Finally, we print both matrices and check if they are equal within a small tolerance using `np.allclose`. The equality check is necessary because covariance matrices and scale matrices should be identical in practice. However, due to floating-point precision, exact equality may not hold, so we use the `np.allclose` function to verify their similarity."
   ]
  },
  {
   "cell_type": "code",
   "execution_count": 4,
   "id": "5098098d",
   "metadata": {},
   "outputs": [],
   "source": [
    "import numpy as np"
   ]
  },
  {
   "cell_type": "code",
   "execution_count": 7,
   "id": "6f5f43a7",
   "metadata": {},
   "outputs": [
    {
     "name": "stdout",
     "output_type": "stream",
     "text": [
      "Covariance Matrix:\n",
      "[[ 1.07152674 -0.01672361  0.04491799  0.03792043  0.04564139]\n",
      " [-0.01672361  1.01288579  0.00360372  0.00975283  0.06587266]\n",
      " [ 0.04491799  0.00360372  1.00234635 -0.03316989 -0.00862546]\n",
      " [ 0.03792043  0.00975283 -0.03316989  0.9391796  -0.01612904]\n",
      " [ 0.04564139  0.06587266 -0.00862546 -0.01612904  0.94788399]]\n",
      "\n",
      "Scale Matrix (Variance-Covariance Matrix):\n",
      "[[ 1.07045521 -0.01670689  0.04487308  0.0378825   0.04559575]\n",
      " [-0.01670689  1.0118729   0.00360011  0.00974308  0.06580679]\n",
      " [ 0.04487308  0.00360011  1.00134401 -0.03313672 -0.00861683]\n",
      " [ 0.0378825   0.00974308 -0.03313672  0.93824042 -0.01611291]\n",
      " [ 0.04559575  0.06580679 -0.00861683 -0.01611291  0.94693611]]\n",
      "\n",
      "Are the Covariance Matrix and Scale Matrix equal? False\n"
     ]
    }
   ],
   "source": [
    "def generate_data(num_samples, num_features):\n",
    "    # Generate random data with mean 0 and variance 1\n",
    "    return np.random.randn(num_samples, num_features)\n",
    "\n",
    "def covariance_matrix(data):\n",
    "    # Calculate the covariance matrix\n",
    "    mean_centered_data = data - np.mean(data, axis=0)\n",
    "    return np.dot(mean_centered_data.T, mean_centered_data) / (data.shape[0] - 1)\n",
    "\n",
    "def scale_matrix(data):\n",
    "    # Calculate the scale matrix (variance-covariance matrix)\n",
    "    return np.cov(data, rowvar=False, bias=True)\n",
    "\n",
    "def main():\n",
    "    # Define the dimensions of the data\n",
    "    num_samples = 1000\n",
    "    num_features = 5\n",
    "\n",
    "    # Generate random data\n",
    "    data = generate_data(num_samples, num_features)\n",
    "\n",
    "    # Calculate the covariance matrix and scale matrix\n",
    "    cov_matrix = covariance_matrix(data)\n",
    "    scale_matrix_result = scale_matrix(data)\n",
    "\n",
    "    # Output the covariance matrix and scale matrix\n",
    "    print(\"Covariance Matrix:\")\n",
    "    print(cov_matrix)\n",
    "\n",
    "    print(\"\\nScale Matrix (Variance-Covariance Matrix):\")\n",
    "    print(scale_matrix_result)\n",
    "\n",
    "    # Check if both matrices are equal (within a small tolerance). Try to tune rtol and atol to see the difference.\n",
    "    matrices_equal = np.allclose(cov_matrix, scale_matrix_result, rtol=1e-05, atol=1e-08)\n",
    "    print(\"\\nAre the Covariance Matrix and Scale Matrix equal?\", matrices_equal)\n",
    "\n",
    "if __name__ == \"__main__\":\n",
    "    main()"
   ]
  }
 ],
 "metadata": {
  "kernelspec": {
   "display_name": "Python 3 (ipykernel)",
   "language": "python",
   "name": "python3"
  },
  "language_info": {
   "codemirror_mode": {
    "name": "ipython",
    "version": 3
   },
   "file_extension": ".py",
   "mimetype": "text/x-python",
   "name": "python",
   "nbconvert_exporter": "python",
   "pygments_lexer": "ipython3",
   "version": "3.8.12"
  }
 },
 "nbformat": 4,
 "nbformat_minor": 5
}
